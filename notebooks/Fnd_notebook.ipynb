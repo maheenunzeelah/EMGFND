{
 "cells": [
  {
   "cell_type": "code",
   "execution_count": 243,
   "id": "c984b20d-1009-4fed-805b-18c82fc36e3a",
   "metadata": {},
   "outputs": [
    {
     "name": "stdout",
     "output_type": "stream",
     "text": [
      "Requirement already satisfied: webdriver_manager in c:\\users\\pc\\appdata\\local\\programs\\python\\python312\\lib\\site-packages (4.0.2)\n",
      "Requirement already satisfied: requests in c:\\users\\pc\\appdata\\local\\programs\\python\\python312\\lib\\site-packages (from webdriver_manager) (2.32.3)\n",
      "Requirement already satisfied: python-dotenv in c:\\users\\pc\\appdata\\local\\programs\\python\\python312\\lib\\site-packages (from webdriver_manager) (1.0.1)\n",
      "Requirement already satisfied: packaging in c:\\users\\pc\\appdata\\local\\programs\\python\\python312\\lib\\site-packages (from webdriver_manager) (24.2)\n",
      "Requirement already satisfied: charset-normalizer<4,>=2 in c:\\users\\pc\\appdata\\local\\programs\\python\\python312\\lib\\site-packages (from requests->webdriver_manager) (3.4.1)\n",
      "Requirement already satisfied: idna<4,>=2.5 in c:\\users\\pc\\appdata\\local\\programs\\python\\python312\\lib\\site-packages (from requests->webdriver_manager) (3.10)\n",
      "Requirement already satisfied: urllib3<3,>=1.21.1 in c:\\users\\pc\\appdata\\local\\programs\\python\\python312\\lib\\site-packages (from requests->webdriver_manager) (2.3.0)\n",
      "Requirement already satisfied: certifi>=2017.4.17 in c:\\users\\pc\\appdata\\local\\programs\\python\\python312\\lib\\site-packages (from requests->webdriver_manager) (2025.1.31)\n",
      "Requirement already satisfied: selenium in c:\\users\\pc\\appdata\\local\\programs\\python\\python312\\lib\\site-packages (4.31.0)\n",
      "Requirement already satisfied: urllib3<3,>=1.26 in c:\\users\\pc\\appdata\\local\\programs\\python\\python312\\lib\\site-packages (from urllib3[socks]<3,>=1.26->selenium) (2.3.0)\n",
      "Requirement already satisfied: trio~=0.17 in c:\\users\\pc\\appdata\\local\\programs\\python\\python312\\lib\\site-packages (from selenium) (0.29.0)\n",
      "Requirement already satisfied: trio-websocket~=0.9 in c:\\users\\pc\\appdata\\local\\programs\\python\\python312\\lib\\site-packages (from selenium) (0.12.2)\n",
      "Requirement already satisfied: certifi>=2021.10.8 in c:\\users\\pc\\appdata\\local\\programs\\python\\python312\\lib\\site-packages (from selenium) (2025.1.31)\n",
      "Requirement already satisfied: typing_extensions~=4.9 in c:\\users\\pc\\appdata\\local\\programs\\python\\python312\\lib\\site-packages (from selenium) (4.12.2)\n",
      "Requirement already satisfied: websocket-client~=1.8 in c:\\users\\pc\\appdata\\local\\programs\\python\\python312\\lib\\site-packages (from selenium) (1.8.0)\n",
      "Requirement already satisfied: attrs>=23.2.0 in c:\\users\\pc\\appdata\\local\\programs\\python\\python312\\lib\\site-packages (from trio~=0.17->selenium) (25.3.0)\n",
      "Requirement already satisfied: sortedcontainers in c:\\users\\pc\\appdata\\local\\programs\\python\\python312\\lib\\site-packages (from trio~=0.17->selenium) (2.4.0)\n",
      "Requirement already satisfied: idna in c:\\users\\pc\\appdata\\local\\programs\\python\\python312\\lib\\site-packages (from trio~=0.17->selenium) (3.10)\n",
      "Requirement already satisfied: outcome in c:\\users\\pc\\appdata\\local\\programs\\python\\python312\\lib\\site-packages (from trio~=0.17->selenium) (1.3.0.post0)\n",
      "Requirement already satisfied: sniffio>=1.3.0 in c:\\users\\pc\\appdata\\local\\programs\\python\\python312\\lib\\site-packages (from trio~=0.17->selenium) (1.3.1)\n",
      "Requirement already satisfied: cffi>=1.14 in c:\\users\\pc\\appdata\\local\\programs\\python\\python312\\lib\\site-packages (from trio~=0.17->selenium) (1.17.1)\n",
      "Requirement already satisfied: wsproto>=0.14 in c:\\users\\pc\\appdata\\local\\programs\\python\\python312\\lib\\site-packages (from trio-websocket~=0.9->selenium) (1.2.0)\n",
      "Requirement already satisfied: pysocks!=1.5.7,<2.0,>=1.5.6 in c:\\users\\pc\\appdata\\local\\programs\\python\\python312\\lib\\site-packages (from urllib3[socks]<3,>=1.26->selenium) (1.7.1)\n",
      "Requirement already satisfied: pycparser in c:\\users\\pc\\appdata\\local\\programs\\python\\python312\\lib\\site-packages (from cffi>=1.14->trio~=0.17->selenium) (2.22)\n",
      "Requirement already satisfied: h11<1,>=0.9.0 in c:\\users\\pc\\appdata\\local\\programs\\python\\python312\\lib\\site-packages (from wsproto>=0.14->trio-websocket~=0.9->selenium) (0.14.0)\n"
     ]
    }
   ],
   "source": [
    "!pip install webdriver_manager\n",
    "!pip install selenium"
   ]
  },
  {
   "cell_type": "code",
   "execution_count": 244,
   "id": "b0a51aca-3d64-4102-8ad0-8cfe20a3a090",
   "metadata": {},
   "outputs": [
    {
     "name": "stdout",
     "output_type": "stream",
     "text": [
      "Collecting validators\n",
      "  Downloading validators-0.34.0-py3-none-any.whl.metadata (3.8 kB)\n",
      "Downloading validators-0.34.0-py3-none-any.whl (43 kB)\n",
      "Installing collected packages: validators\n",
      "Successfully installed validators-0.34.0\n"
     ]
    }
   ],
   "source": [
    "!pip install validators"
   ]
  },
  {
   "cell_type": "code",
   "execution_count": 251,
   "id": "c4040c8a-f528-4265-b035-32ad382ef6c6",
   "metadata": {},
   "outputs": [],
   "source": [
    "import pandas as pd\n",
    "import torch\n",
    "import os\n",
    "from dotenv import load_dotenv\n",
    "import openai \n",
    "import anthropic\n",
    "from IPython.display import Markdown, display, update_display, Image\n",
    "import google.generativeai\n",
    "import base64\n",
    "import datetime\n",
    "from selenium import webdriver\n",
    "from selenium.webdriver.common.by import By\n",
    "from selenium.webdriver.common.keys import Keys\n",
    "from selenium.webdriver.chrome.service import Service\n",
    "from webdriver_manager.chrome import ChromeDriverManager\n",
    "import time\n",
    "import textwrap\n",
    "import os\n",
    "from sklearn.metrics import  accuracy_score,classification_report, confusion_matrix \n",
    "from tqdm.notebook import tqdm\n",
    "import re\n",
    "import validators"
   ]
  },
  {
   "cell_type": "code",
   "execution_count": 6,
   "id": "4bfa800b-ad01-485d-a7d5-5735448545c3",
   "metadata": {},
   "outputs": [
    {
     "name": "stdout",
     "output_type": "stream",
     "text": [
      "OpenAI API Key exists and begins sk-proj-\n",
      "Anthropic API Key exists and begins sk-ant-\n",
      "Google API Key exists and begins AIzaSyBE\n"
     ]
    }
   ],
   "source": [
    "# Load environment variables in a file called .env\n",
    "# Print the key prefixes to help with any debugging\n",
    "\n",
    "load_dotenv(override=True)\n",
    "openai_api_key = os.getenv('OPENAI_API_KEY')\n",
    "anthropic_api_key = os.getenv('ANTHROPIC_API_KEY')\n",
    "google_api_key = os.getenv('GOOGLE_API_KEY')\n",
    "\n",
    "if openai_api_key:\n",
    "    print(f\"OpenAI API Key exists and begins {openai_api_key[:8]}\")\n",
    "else:\n",
    "    print(\"OpenAI API Key not set\")\n",
    "    \n",
    "if anthropic_api_key:\n",
    "    print(f\"Anthropic API Key exists and begins {anthropic_api_key[:7]}\")\n",
    "else:\n",
    "    print(\"Anthropic API Key not set\")\n",
    "\n",
    "if google_api_key:\n",
    "    print(f\"Google API Key exists and begins {google_api_key[:8]}\")\n",
    "else:\n",
    "    print(\"Google API Key not set\")"
   ]
  },
  {
   "cell_type": "code",
   "execution_count": 218,
   "id": "6b1cc786-a60c-4c82-8faa-36dd540b50ce",
   "metadata": {},
   "outputs": [],
   "source": [
    "notebook_dir = os.path.dirname(os.path.abspath(\"Fnd_notebook.ipynb\"))\n",
    "IMG_PATH=os.path.join(notebook_dir, 'public_images', 'public_image_set')"
   ]
  },
  {
   "cell_type": "code",
   "execution_count": 7,
   "id": "fe1f3157-a378-4e17-b50e-45a2fa7d796b",
   "metadata": {},
   "outputs": [],
   "source": [
    "google.generativeai.configure()"
   ]
  },
  {
   "cell_type": "code",
   "execution_count": 8,
   "id": "c6181818-a1e4-4edd-ad19-f0b45f7f783c",
   "metadata": {},
   "outputs": [],
   "source": [
    "train_df=pd.read_table(\"multimodal_train.tsv\")\n",
    "val_df=pd.read_table(\"multimodal_validate.tsv\")\n",
    "test_df=pd.read_table(\"multimodal_test_public.tsv\")"
   ]
  },
  {
   "cell_type": "code",
   "execution_count": 44,
   "id": "4b19d781-5a6f-4e84-9c30-fc2968b79bcf",
   "metadata": {},
   "outputs": [
    {
     "data": {
      "text/plain": [
       "author                   28710\n",
       "clean_title                  0\n",
       "created_utc                  0\n",
       "domain                  167857\n",
       "hasImage                     0\n",
       "id                           0\n",
       "image_url                 1534\n",
       "linked_submission_id    396143\n",
       "num_comments            167857\n",
       "score                        0\n",
       "subreddit                    0\n",
       "title                        0\n",
       "upvote_ratio            167857\n",
       "2_way_label                  0\n",
       "3_way_label                  0\n",
       "6_way_label                  0\n",
       "dtype: int64"
      ]
     },
     "execution_count": 44,
     "metadata": {},
     "output_type": "execute_result"
    }
   ],
   "source": [
    "train_df.isnull().sum()"
   ]
  },
  {
   "cell_type": "code",
   "execution_count": 148,
   "id": "41fd8725-b544-41dd-84a1-54a19f8e2798",
   "metadata": {},
   "outputs": [
    {
     "name": "stdout",
     "output_type": "stream",
     "text": [
      "<class 'pandas.core.frame.DataFrame'>\n",
      "RangeIndex: 59319 entries, 0 to 59318\n",
      "Data columns (total 16 columns):\n",
      " #   Column                Non-Null Count  Dtype  \n",
      "---  ------                --------------  -----  \n",
      " 0   author                56251 non-null  object \n",
      " 1   clean_title           59319 non-null  object \n",
      " 2   created_utc           59319 non-null  float64\n",
      " 3   domain                41847 non-null  object \n",
      " 4   hasImage              59319 non-null  bool   \n",
      " 5   id                    59319 non-null  object \n",
      " 6   image_url             59163 non-null  object \n",
      " 7   linked_submission_id  17472 non-null  object \n",
      " 8   num_comments          41847 non-null  float64\n",
      " 9   score                 59319 non-null  int64  \n",
      " 10  subreddit             59319 non-null  object \n",
      " 11  title                 59319 non-null  object \n",
      " 12  upvote_ratio          41847 non-null  float64\n",
      " 13  2_way_label           59319 non-null  int64  \n",
      " 14  3_way_label           59319 non-null  int64  \n",
      " 15  6_way_label           59319 non-null  int64  \n",
      "dtypes: bool(1), float64(3), int64(4), object(8)\n",
      "memory usage: 6.8+ MB\n"
     ]
    }
   ],
   "source": [
    "test_df.info()"
   ]
  },
  {
   "cell_type": "code",
   "execution_count": 48,
   "id": "8266a2a2-da1a-416b-afd6-cf95d641a0cb",
   "metadata": {},
   "outputs": [],
   "source": [
    "def class_report(y_test,y_pred):\n",
    "    accuracy =accuracy_score(y_test,y_pred)\n",
    "    classification = classification_report(y_test,y_pred)\n",
    "    print()\n",
    "    print('=================== Model Evaluation =====================')\n",
    "    print()\n",
    "    print(\"Classification report:\" \"\\n\", classification)\n",
    "    print()\n",
    "    return accuracy"
   ]
  },
  {
   "cell_type": "code",
   "execution_count": 49,
   "id": "3ec70242-ed28-4d40-af15-7ea8aa171103",
   "metadata": {},
   "outputs": [],
   "source": [
    "def conf_matrix(y_test,y_pred,acc):\n",
    "    cm = confusion_matrix(y_test, y_pred)\n",
    "    plt.figure(figsize=(10,6))\n",
    "    sns.heatmap(data=cm,linewidths=.5, annot=True,square = True,  cmap = 'Blues', fmt=\"d\")\n",
    "    plt.ylabel('Actual label')\n",
    "    plt.xlabel('Predicted label')\n",
    "    all_sample_title = 'Accuracy Score: {0}'.format(acc)\n",
    "    plt.title(all_sample_title, size = 25)"
   ]
  },
  {
   "cell_type": "code",
   "execution_count": 32,
   "id": "7fea548d-fbfd-43ce-8180-2e2872aef93f",
   "metadata": {},
   "outputs": [],
   "source": [
    "def remove_na_rows(df,col):\n",
    "   return df.dropna(subset=[col])"
   ]
  },
  {
   "cell_type": "code",
   "execution_count": 35,
   "id": "cf85a6a0-fe4d-4d86-80bf-7e89e13b874e",
   "metadata": {},
   "outputs": [],
   "source": [
    "def subset_df(df,cols):\n",
    "   return df[cols]"
   ]
  },
  {
   "cell_type": "code",
   "execution_count": null,
   "id": "aba7d5aa-0b3f-4874-859d-340884e74616",
   "metadata": {},
   "outputs": [],
   "source": [
    "def encode_image(image_source):\n",
    "    print(image_source)\n",
    "    if image_source.startswith(\"http://\") or image_source.startswith(\"https://\"):\n",
    "        # Handle URL\n",
    "        headers = {\"User-Agent\": \"Mozilla/5.0\"}\n",
    "\n",
    "        response = requests.get(image_source,headers=headers)\n",
    "        if response.status_code == 200:\n",
    "            return base64.b64encode(response.content).decode('utf-8')\n",
    "        else:\n",
    "            raise Exception(f\"Failed to fetch image from URL: {image_source}\")\n",
    "    elif os.path.exists(image_source):\n",
    "        # Handle local file\n",
    "        with open(image_source, \"rb\") as image_file:\n",
    "            return base64.b64encode(image_file.read()).decode('utf-8')\n",
    "    else:\n",
    "        raise ValueError(\"Invalid image source. Provide a valid file path or image URL.\")"
   ]
  },
  {
   "cell_type": "code",
   "execution_count": null,
   "id": "87430710-9879-4e5a-85fe-817b4c27fd53",
   "metadata": {},
   "outputs": [],
   "source": [
    "def google_image_search(query, num_images=5):\n",
    "    # Set up Chrome with WebDriver Manager\n",
    "    options = webdriver.ChromeOptions()\n",
    "    options.add_argument(\"--headless\")  # run in background\n",
    "    options.add_argument(\"--disable-gpu\")\n",
    "    driver = webdriver.Chrome(service=Service(ChromeDriverManager().install()), options=options)\n",
    "\n",
    "    try:\n",
    "        # Step 1: Go to Google Images\n",
    "        driver.get(\"https://images.google.com/\")\n",
    "        time.sleep(1)\n",
    "\n",
    "        # Step 2: Enter the search query\n",
    "        search_box = driver.find_element(By.NAME, \"q\")\n",
    "        search_box.send_keys(query)\n",
    "        search_box.send_keys(Keys.RETURN)\n",
    "        time.sleep(2)\n",
    "\n",
    "        # Step 3: Extract image URLs\n",
    "        image_sections = driver.find_elements(By.XPATH, '//div[@id=\"search\"]//div[@data-attrid=\"images universal\"]')[:num_images]\n",
    "        \n",
    "        all_section_images=[]\n",
    "        for idx, section in enumerate(image_sections, 1):\n",
    "        # Within each section, find all img tags with src\n",
    "           imgs = section.find_elements(By.XPATH, './/div[2]//img[@src]')\n",
    "           image_urls = [img.get_attribute(\"src\") for img in imgs if img.get_attribute(\"src\")]\n",
    "           all_section_images.append(image_urls)\n",
    "\n",
    "    \n",
    "\n",
    "    finally:\n",
    "        driver.quit()\n",
    "    return all_section_images   \n",
    "\n"
   ]
  },
  {
   "cell_type": "code",
   "execution_count": 246,
   "id": "b5603369-0e95-42bc-97bb-6f64e0b3233f",
   "metadata": {},
   "outputs": [],
   "source": [
    "def is_url(s):\n",
    "    return validators.url(s)"
   ]
  },
  {
   "cell_type": "code",
   "execution_count": 245,
   "id": "8a0f1cbd-be21-4136-b2c8-b768736e40ae",
   "metadata": {},
   "outputs": [],
   "source": [
    "def get_image_filename(url):\n",
    "    # Use regular expression to find the part after '.com/' and before '.jpg'\n",
    "    match = re.search(r'\\.com/(.*?)(?=\\.[a-zA-Z]{3,4})', url)  # Match part between '.com/' and file extension\n",
    "    if match:\n",
    "        return match.group(1).replace('/', '_')  # Replace '/' with '_' for safe filenames\n",
    "    return None  # Return None if no match is found"
   ]
  },
  {
   "cell_type": "code",
   "execution_count": 293,
   "id": "e2ffe928-7c8e-48db-994a-23b79c2e3f46",
   "metadata": {},
   "outputs": [],
   "source": [
    "def match_image_title(df,index,id_col,title_col,scraped_imgs_url):\n",
    "\n",
    "   # Construct the image path dynamically\n",
    "   if is_url(df[id_col].iloc[index]):\n",
    "       image_path_url = get_image_filename(df[id_col].iloc[index])\n",
    "       image_path = os.path.join(IMG_PATH, f\"{image_path_url}.jpg\")\n",
    "   else:    \n",
    "       image_path = os.path.join(IMG_PATH, f\"{df[id_col].iloc[index]}.jpg\")\n",
    "   encoded_image = encode_image(image_path)\n",
    "   print(encoded_image)\n",
    "   display(Image(encoded_image))\n",
    "\n",
    "   result = openai.chat.completions.create(\n",
    "     model=\"gpt-4-turbo\",\n",
    "     messages = [{\n",
    "      \"role\": \"user\",\n",
    "      \"content\": [\n",
    "        {\"type\": \"text\", \"text\": f\"This is title {df[title_col].iloc[index]}\"},\n",
    "        {\"type\": \"text\", \"text\": \"Do you think title correctly describes the first image? If you are unsure about it check reference images and match first image with reference images.If it is a person in first image, match first image with reference images and see if they are same person.Respond with yes or no and briefly explain\"},\n",
    "        {\"type\": \"image_url\", \"image_url\": {\"url\": f\"data:image/jpeg;base64,{encoded_image}\"}},\n",
    "       ] + [\n",
    "        {\"type\": \"image_url\", \"image_url\": {\"url\": ref_img}}\n",
    "        for ref_img in scraped_imgs_url \n",
    "      ]\n",
    "   }],\n",
    "    max_tokens=200\n",
    "   )\n",
    "   return textwrap.fill(result.choices[0].message.content, width=70)"
   ]
  },
  {
   "cell_type": "code",
   "execution_count": 294,
   "id": "0c6b4eb5-a61e-4ba9-b778-a5bc9680a16d",
   "metadata": {},
   "outputs": [],
   "source": [
    "def generate_query(df, title_col, date_col, index):\n",
    "    date_val = df[date_col].iloc[index]\n",
    "    print(date_val)\n",
    "    # Check if the value is numeric (UNIX timestamp)\n",
    "    if isinstance(date_val, (int, float)):\n",
    "        dt = datetime.datetime.utcfromtimestamp(date_val)\n",
    "    elif isinstance(date_val, str):\n",
    "        try:\n",
    "            dt = datetime.datetime.strptime(date_val, '%Y-%m-%d %H:%M:%S')\n",
    "        except ValueError:\n",
    "            return f\"{df[title_col].iloc[index]}\"  # Fallback if format is unexpected\n",
    "    else:\n",
    "        return f\"{df[title_col].iloc[index]}\"  # Fallback for unknown types\n",
    "\n",
    "    year = dt.year\n",
    "    return f\"{df[title_col].iloc[index]} {year}\""
   ]
  },
  {
   "cell_type": "code",
   "execution_count": 292,
   "id": "f0780d64-7177-45c0-a407-85ce62776b57",
   "metadata": {},
   "outputs": [],
   "source": [
    "# Example usage:\n",
    "def predict_news_using_similarity(df,index,id_col,title_col,date_col):\n",
    "   query=generate_query(df,title_col,date_col,index)\n",
    "   print(query)\n",
    "   images = google_image_search(f\"{query}\", num_images=5)\n",
    "   scraped_imgs_url=[]\n",
    "   for i, url in enumerate(images, 1):\n",
    "     scraped_imgs_url.append(url[0])\n",
    "     # print(f\"Image {i}: {url[0]}\")\n",
    "    \n",
    "   content=match_image_title(df,index,id_col,title_col,scraped_imgs_url)\n",
    "    \n",
    "   match = re.match(r\"^(Yes|No)[,:\\s-]*\", content, re.IGNORECASE)\n",
    "   if match:\n",
    "        answer = match.group(1).lower()\n",
    "        binary_label = 1 if answer == \"yes\" else 0\n",
    "        reasoning = content[len(match.group(0)):].strip()\n",
    "   else:\n",
    "        binary_label = None\n",
    "        reasoning = content\n",
    "\n",
    "    # Save to the dataframe\n",
    "   df.at[index, 'match_label'] = binary_label\n",
    "   df.at[index, 'match_reasoning'] = reasoning\n",
    "   df.at[index, 'scraped_reference_imgs']=scraped_imgs_url"
   ]
  },
  {
   "cell_type": "code",
   "execution_count": 121,
   "id": "e8d68279-b901-4e4e-9e8f-41f89103e859",
   "metadata": {},
   "outputs": [],
   "source": [
    "train_df_cleaned=subset_df(remove_na_rows(train_df,'image_url'),['id','clean_title', 'created_utc', 'image_url','2_way_label'])\n",
    "val_df_cleaned=subset_df(remove_na_rows(val_df,'image_url'),['id','clean_title', 'created_utc', 'image_url','2_way_label'])\n",
    "test_df_cleaned=subset_df(remove_na_rows(test_df,'image_url'),['id','clean_title', 'created_utc', 'image_url','2_way_label'])"
   ]
  },
  {
   "cell_type": "code",
   "execution_count": null,
   "id": "dabe6a13-190c-475d-be0c-f49c794f2a26",
   "metadata": {},
   "outputs": [],
   "source": [
    "id_col='id'\n",
    "title_col='clean_title'\n",
    "date_col='created_utc'"
   ]
  },
  {
   "cell_type": "code",
   "execution_count": 127,
   "id": "ab8b3915-9d5e-4970-a317-f7f62ca00deb",
   "metadata": {},
   "outputs": [],
   "source": [
    "# img_title_test_pred=test_df_cleaned.copy()\n",
    "# img_title_test_pred['match_label'] = None\n",
    "# img_title_test_pred['match_reasoning'] = None\n",
    "# img_title_test_pred['scraped_reference_imgs'] = None"
   ]
  },
  {
   "cell_type": "code",
   "execution_count": 152,
   "id": "10076930-7192-4839-8567-ee4e0b1cd96e",
   "metadata": {},
   "outputs": [
    {
     "name": "stdout",
     "output_type": "stream",
     "text": [
      "2_way_label\n",
      "0    35763\n",
      "1    23400\n",
      "Name: count, dtype: int64\n"
     ]
    }
   ],
   "source": [
    "label_counts = test_df_cleaned['2_way_label'].value_counts()\n",
    "print(label_counts)"
   ]
  },
  {
   "cell_type": "code",
   "execution_count": null,
   "id": "2c8748e9-82bc-424c-9562-cfe7a0124bc9",
   "metadata": {},
   "outputs": [],
   "source": [
    "# for i in tqdm(range(4, 11), desc=\"Processing Rows\"):\n",
    "#     try:\n",
    "#         predict_news_using_similarity(img_title_test_pred,i,id_col,title_col,date_col)\n",
    "#     except Exception as e:\n",
    "#         print(f\"Error processing index {i}: {e}\")"
   ]
  },
  {
   "cell_type": "code",
   "execution_count": 142,
   "id": "7388b32c-5b47-430f-b351-51b8f0b5f710",
   "metadata": {},
   "outputs": [
    {
     "data": {
      "text/plain": [
       "'the rise of italian fascism circa'"
      ]
     },
     "execution_count": 142,
     "metadata": {},
     "output_type": "execute_result"
    }
   ],
   "source": [
    "img_title_test_pred['clean_title'][5]"
   ]
  },
  {
   "cell_type": "code",
   "execution_count": 144,
   "id": "6f9ee110-a10e-4426-9c7c-c59f141b2f7a",
   "metadata": {},
   "outputs": [
    {
     "name": "stdout",
     "output_type": "stream",
     "text": [
      "C:\\Users\\pc\\Documents\\Journal Work Code\\public_images\\public_image_set\\8g3xtm.jpg\n"
     ]
    },
    {
     "data": {
      "image/jpeg": "[encoded data removed]",
      "text/plain": [
       "<IPython.core.display.Image object>"
      ]
     },
     "metadata": {},
     "output_type": "display_data"
    }
   ],
   "source": [
    "\n",
    "image_path = os.path.join(notebook_dir, 'public_images', 'public_image_set', f\"{img_title_test_pred['id'].iloc[6]}.jpg\")\n",
    "encoded_image = encode_image(image_path)\n",
    "display(Image(image_path))"
   ]
  },
  {
   "cell_type": "code",
   "execution_count": 158,
   "id": "bab80a56-2509-4a59-ad2c-b30695467dfe",
   "metadata": {},
   "outputs": [],
   "source": [
    "all_data_df=pd.read_csv(\"all_data.csv\")\n",
    "all_data_df = all_data_df.loc[:, ~all_data_df.columns.str.contains('^Unnamed')]"
   ]
  },
  {
   "cell_type": "code",
   "execution_count": 186,
   "id": "673da1ec-3475-47a5-8bd2-cbc48366213f",
   "metadata": {},
   "outputs": [
    {
     "data": {
      "text/plain": [
       "'Luring Chinese Investors With Trump<U+2019>s Name, and Little Else'"
      ]
     },
     "execution_count": 186,
     "metadata": {},
     "output_type": "execute_result"
    }
   ],
   "source": [
    "all_data_df['title'][3]"
   ]
  },
  {
   "cell_type": "code",
   "execution_count": 281,
   "id": "45818f75-7333-466d-83eb-e59afff0a0c7",
   "metadata": {},
   "outputs": [],
   "source": [
    "import re\n",
    "import unicodedata\n",
    "from bs4 import BeautifulSoup\n",
    "import string\n",
    "\n",
    "# Map of common Unicode code points to their ASCII equivalents\n",
    "unicode_replacements = {\n",
    "    '2019': \"'\",  # right single quote\n",
    "    '2018': \"'\",  # left single quote\n",
    "    '201C': '\"',  # left double quote\n",
    "    '201D': '\"',  # right double quote\n",
    "    '2013': '-',  # en dash\n",
    "    '2014': '-',  # em dash\n",
    "}\n",
    "\n",
    "def replace_unicode_placeholders(text):\n",
    "    def replacer(match):\n",
    "        code = match.group(1).upper()\n",
    "        return unicode_replacements.get(code, '')  # Replace known codes or remove\n",
    "    return re.sub(r'<U\\+([0-9A-Fa-f]{4})>', replacer, text)\n",
    "\n",
    "def clean_text(text, lowercase=True, remove_punct=True, remove_html=True):\n",
    "    \"\"\"\n",
    "    Cleans text by removing HTML, punctuation (including apostrophes and dashes), and normalizing.\n",
    "    \"\"\"\n",
    "    if not isinstance(text, str):\n",
    "        return ''\n",
    "    \n",
    "    # Replace unicode placeholders\n",
    "    text = replace_unicode_placeholders(text)\n",
    "    \n",
    "    # Remove HTML\n",
    "    if remove_html:\n",
    "        text = BeautifulSoup(text, \"html.parser\").get_text()\n",
    "    \n",
    "    # Normalize Unicode\n",
    "    text = unicodedata.normalize(\"NFKD\", text)\n",
    "    \n",
    "    # Lowercase\n",
    "    if lowercase:\n",
    "        text = text.lower()\n",
    "    \n",
    "    # Remove punctuation including apostrophes and dashes\n",
    "    if remove_punct:\n",
    "        text = re.sub(r\"[^\\w\\s]\", '', text)\n",
    "    \n",
    "    # Collapse multiple spaces and strip\n",
    "    text = re.sub(r'\\s+', ' ', text).strip()\n",
    "    \n",
    "    return text"
   ]
  },
  {
   "cell_type": "code",
   "execution_count": 190,
   "id": "ae1d5eb5-bf78-433d-ba97-bbe9ee046308",
   "metadata": {},
   "outputs": [],
   "source": [
    "def load_and_display_image(url, folder='allData_images'):\n",
    "    filename = get_image_filename(url)\n",
    "    if filename:\n",
    "        image_path = os.path.join(folder, filename + '.jpg')\n",
    "        if os.path.exists(image_path):\n",
    "            encoded_image = encode_image(image_path)\n",
    "            display(Image(image_path))\n",
    "        else:\n",
    "            print(f\"Image not found at {image_path}\")\n",
    "    else:\n",
    "        print(\"Invalid URL format.\")\n",
    "    return None"
   ]
  },
  {
   "cell_type": "code",
   "execution_count": 282,
   "id": "2faf2150-7341-4561-82e5-9cc4a58f6103",
   "metadata": {},
   "outputs": [
    {
     "name": "stderr",
     "output_type": "stream",
     "text": [
      "C:\\Users\\pc\\AppData\\Local\\Temp\\ipykernel_16048\\2143812419.py:34: MarkupResemblesLocatorWarning: The input passed in on this line looks more like a URL than HTML or XML.\n",
      "\n",
      "If you meant to use Beautiful Soup to parse the web page found at a certain URL, then something has gone wrong. You should use an Python package like 'requests' to fetch the content behind the URL. Once you have the content as a string, you can feed that string into Beautiful Soup.\n",
      "\n",
      "However, if you want to parse some data that happens to look like a URL, then nothing has gone wrong: you are using Beautiful Soup correctly, and this warning is spurious and can be filtered. To make this warning go away, run this code before calling the BeautifulSoup constructor:\n",
      "\n",
      "    from bs4 import MarkupResemblesLocatorWarning\n",
      "    import warnings\n",
      "\n",
      "    warnings.filterwarnings(\"ignore\", category=MarkupResemblesLocatorWarning)\n",
      "    \n",
      "  text = BeautifulSoup(text, \"html.parser\").get_text()\n"
     ]
    }
   ],
   "source": [
    "all_data_df['title'] = all_data_df['title'].fillna('').apply(clean_text)\n",
    "all_data_df['text'] = all_data_df['text'].fillna('').apply(clean_text)"
   ]
  },
  {
   "cell_type": "code",
   "execution_count": 193,
   "id": "05a85dc8-9a02-42ba-ab0e-12e4569400c7",
   "metadata": {},
   "outputs": [
    {
     "data": {
      "text/plain": [
       "'2016-11-23 00:45:32'"
      ]
     },
     "execution_count": 193,
     "metadata": {},
     "output_type": "execute_result"
    }
   ],
   "source": [
    "all_data_df['published'][0]"
   ]
  },
  {
   "cell_type": "code",
   "execution_count": 299,
   "id": "adb6e9c7-8644-41ab-9816-8ed02d86bd90",
   "metadata": {},
   "outputs": [
    {
     "name": "stdout",
     "output_type": "stream",
     "text": [
      "allData_images\\images_2016_10_18_us_18fd-trumpfoundation_18fd-trumpfoundation-master675.jpg\n"
     ]
    },
    {
     "data": {
      "image/jpeg": "[encoded data removed]",
      "text/plain": [
       "<IPython.core.display.Image object>"
      ]
     },
     "metadata": {},
     "output_type": "display_data"
    }
   ],
   "source": [
    "url = all_data_df['main_img_url'][1]\n",
    "load_and_display_image(url)"
   ]
  },
  {
   "cell_type": "code",
   "execution_count": 286,
   "id": "65668c1c-01fa-47f1-a80b-589eb9b77d30",
   "metadata": {},
   "outputs": [],
   "source": [
    "all_data_df_cleaned=subset_df(all_data_df,['id','title', 'text', 'main_img_url','published','type'])"
   ]
  },
  {
   "cell_type": "code",
   "execution_count": 287,
   "id": "13187f81-803e-44b5-936f-15c628a48427",
   "metadata": {},
   "outputs": [],
   "source": [
    "all_data_df_pred=all_data_df_cleaned.copy()\n",
    "all_data_df_pred['match_label'] = None\n",
    "all_data_df_pred['match_reasoning'] = None\n",
    "all_data_df_pred['scraped_reference_imgs'] = None"
   ]
  },
  {
   "cell_type": "code",
   "execution_count": 288,
   "id": "5c2f805f-2f7e-4fb2-bc0c-b7d91b5c7b5a",
   "metadata": {},
   "outputs": [],
   "source": [
    "id_col='main_img_url'\n",
    "title_col='title'\n",
    "date_col='published'"
   ]
  },
  {
   "cell_type": "code",
   "execution_count": 234,
   "id": "0b7d73ca-4dbd-493a-920d-2bb3a4aab284",
   "metadata": {},
   "outputs": [],
   "source": [
    "IMG_PATH=os.path.join(notebook_dir, 'allData_images')"
   ]
  },
  {
   "cell_type": "code",
   "execution_count": null,
   "id": "a5079ae5-e6ef-41b6-9f8f-17254b579153",
   "metadata": {},
   "outputs": [],
   "source": [
    "for i in tqdm(range(0, 1), desc=\"Processing Rows\"):\n",
    "    try:\n",
    "        predict_news_using_similarity(all_data_df_pred,i,id_col,title_col,date_col)\n",
    "    except Exception as e:\n",
    "        print(f\"Error processing index {i}: {e}\")"
   ]
  },
  {
   "cell_type": "code",
   "execution_count": 296,
   "id": "b67b8a0a-d6f3-4763-9a3b-8d0dc1b2317a",
   "metadata": {},
   "outputs": [
    {
     "data": {
      "text/html": [
       "<div>\n",
       "<style scoped>\n",
       "    .dataframe tbody tr th:only-of-type {\n",
       "        vertical-align: middle;\n",
       "    }\n",
       "\n",
       "    .dataframe tbody tr th {\n",
       "        vertical-align: top;\n",
       "    }\n",
       "\n",
       "    .dataframe thead th {\n",
       "        text-align: right;\n",
       "    }\n",
       "</style>\n",
       "<table border=\"1\" class=\"dataframe\">\n",
       "  <thead>\n",
       "    <tr style=\"text-align: right;\">\n",
       "      <th></th>\n",
       "      <th>id</th>\n",
       "      <th>title</th>\n",
       "      <th>text</th>\n",
       "      <th>main_img_url</th>\n",
       "      <th>published</th>\n",
       "      <th>type</th>\n",
       "      <th>match_label</th>\n",
       "      <th>match_reasoning</th>\n",
       "      <th>scraped_reference_imgs</th>\n",
       "    </tr>\n",
       "  </thead>\n",
       "  <tbody>\n",
       "    <tr>\n",
       "      <th>0</th>\n",
       "      <td>3.0</td>\n",
       "      <td>at donald trumps properties a showcase for a b...</td>\n",
       "      <td>they stood in line at trump tower sometimes up...</td>\n",
       "      <td>https://static01.nyt.com/images/2016/11/23/us/...</td>\n",
       "      <td>2016-11-23 00:45:32</td>\n",
       "      <td>real</td>\n",
       "      <td>1</td>\n",
       "      <td>the title \"At Donald Trump's Properties, a Sho...</td>\n",
       "      <td>[data:image/jpeg;base64,/9j/4AAQSkZJRgABAQAAAQ...</td>\n",
       "    </tr>\n",
       "    <tr>\n",
       "      <th>1</th>\n",
       "      <td>4.0</td>\n",
       "      <td>trump foundation tells new york it has stopped...</td>\n",
       "      <td>donald j trump s foundation informed attorney ...</td>\n",
       "      <td>https://static01.nyt.com/images/2016/10/18/us/...</td>\n",
       "      <td>2016-10-17 18:46:52</td>\n",
       "      <td>real</td>\n",
       "      <td>None</td>\n",
       "      <td>None</td>\n",
       "      <td>None</td>\n",
       "    </tr>\n",
       "    <tr>\n",
       "      <th>2</th>\n",
       "      <td>5.0</td>\n",
       "      <td>donald trump prepares for white house move but...</td>\n",
       "      <td>presidentelect donald j trump won the white ho...</td>\n",
       "      <td>https://static01.nyt.com/images/2016/11/12/us/...</td>\n",
       "      <td>2016-11-12 02:08:39</td>\n",
       "      <td>real</td>\n",
       "      <td>None</td>\n",
       "      <td>None</td>\n",
       "      <td>None</td>\n",
       "    </tr>\n",
       "    <tr>\n",
       "      <th>3</th>\n",
       "      <td>6.0</td>\n",
       "      <td>luring chinese investors with trumps name and ...</td>\n",
       "      <td>an investment pitch for a new texas hotel is t...</td>\n",
       "      <td>https://static01.nyt.com/images/2016/10/21/bus...</td>\n",
       "      <td>2016-10-20 22:09:04</td>\n",
       "      <td>real</td>\n",
       "      <td>None</td>\n",
       "      <td>None</td>\n",
       "      <td>None</td>\n",
       "    </tr>\n",
       "    <tr>\n",
       "      <th>4</th>\n",
       "      <td>7.0</td>\n",
       "      <td>melania and barron trump wont immediately move...</td>\n",
       "      <td>presidentelect donald j trump s wife melania a...</td>\n",
       "      <td>https://static01.nyt.com/images/2016/11/21/us/...</td>\n",
       "      <td>2016-11-21 01:42:23</td>\n",
       "      <td>real</td>\n",
       "      <td>None</td>\n",
       "      <td>None</td>\n",
       "      <td>None</td>\n",
       "    </tr>\n",
       "  </tbody>\n",
       "</table>\n",
       "</div>"
      ],
      "text/plain": [
       "    id                                              title  \\\n",
       "0  3.0  at donald trumps properties a showcase for a b...   \n",
       "1  4.0  trump foundation tells new york it has stopped...   \n",
       "2  5.0  donald trump prepares for white house move but...   \n",
       "3  6.0  luring chinese investors with trumps name and ...   \n",
       "4  7.0  melania and barron trump wont immediately move...   \n",
       "\n",
       "                                                text  \\\n",
       "0  they stood in line at trump tower sometimes up...   \n",
       "1  donald j trump s foundation informed attorney ...   \n",
       "2  presidentelect donald j trump won the white ho...   \n",
       "3  an investment pitch for a new texas hotel is t...   \n",
       "4  presidentelect donald j trump s wife melania a...   \n",
       "\n",
       "                                        main_img_url            published  \\\n",
       "0  https://static01.nyt.com/images/2016/11/23/us/...  2016-11-23 00:45:32   \n",
       "1  https://static01.nyt.com/images/2016/10/18/us/...  2016-10-17 18:46:52   \n",
       "2  https://static01.nyt.com/images/2016/11/12/us/...  2016-11-12 02:08:39   \n",
       "3  https://static01.nyt.com/images/2016/10/21/bus...  2016-10-20 22:09:04   \n",
       "4  https://static01.nyt.com/images/2016/11/21/us/...  2016-11-21 01:42:23   \n",
       "\n",
       "   type match_label                                    match_reasoning  \\\n",
       "0  real           1  the title \"At Donald Trump's Properties, a Sho...   \n",
       "1  real        None                                               None   \n",
       "2  real        None                                               None   \n",
       "3  real        None                                               None   \n",
       "4  real        None                                               None   \n",
       "\n",
       "                              scraped_reference_imgs  \n",
       "0  [data:image/jpeg;base64,/9j/4AAQSkZJRgABAQAAAQ...  \n",
       "1                                               None  \n",
       "2                                               None  \n",
       "3                                               None  \n",
       "4                                               None  "
      ]
     },
     "execution_count": 296,
     "metadata": {},
     "output_type": "execute_result"
    }
   ],
   "source": [
    "all_data_df_pred.head()"
   ]
  },
  {
   "cell_type": "code",
   "execution_count": 297,
   "id": "a2919039-f392-42f5-993e-2a27caa1b204",
   "metadata": {},
   "outputs": [
    {
     "data": {
      "text/plain": [
       "'the title \"At Donald Trump\\'s Properties, a Showcase for a Brand\\nand a President-Elect\" correctly describes the first image. The image\\nshows a group of people on a balcony of a building that appears to be\\npart of a Trump property, as indicated by the emblem visible on the\\nbalcony which is associated with Trump\\'s brand. This setting aligns\\nwith the description of the property being a showcase for Trump\\'s\\nbrand, and it captures the atmosphere during a period when he was\\nPresident-Elect.'"
      ]
     },
     "execution_count": 297,
     "metadata": {},
     "output_type": "execute_result"
    }
   ],
   "source": [
    "all_data_df_pred[\"match_reasoning\"][0]"
   ]
  },
  {
   "cell_type": "code",
   "execution_count": 290,
   "id": "51a6df04-df5a-48c8-899d-31c6ef3639cd",
   "metadata": {},
   "outputs": [
    {
     "data": {
      "text/plain": [
       "'at donald trumps properties a showcase for a brand and a presidentelect'"
      ]
     },
     "execution_count": 290,
     "metadata": {},
     "output_type": "execute_result"
    }
   ],
   "source": [
    "all_data_df_pred[\"title\"][0]"
   ]
  },
  {
   "cell_type": "code",
   "execution_count": null,
   "id": "a9df29c9-d976-4df6-94a1-feee750a18e0",
   "metadata": {},
   "outputs": [],
   "source": []
  }
 ],
 "metadata": {
  "kernelspec": {
   "display_name": "Python 3 (ipykernel)",
   "language": "python",
   "name": "python3"
  },
  "language_info": {
   "codemirror_mode": {
    "name": "ipython",
    "version": 3
   },
   "file_extension": ".py",
   "mimetype": "text/x-python",
   "name": "python",
   "nbconvert_exporter": "python",
   "pygments_lexer": "ipython3",
   "version": "3.12.9"
  }
 },
 "nbformat": 4,
 "nbformat_minor": 5
}
