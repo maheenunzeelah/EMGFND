{
 "cells": [
  {
   "cell_type": "code",
   "execution_count": 243,
   "id": "c984b20d-1009-4fed-805b-18c82fc36e3a",
   "metadata": {},
   "outputs": [
    {
     "name": "stdout",
     "output_type": "stream",
     "text": [
      "Requirement already satisfied: webdriver_manager in c:\\users\\pc\\appdata\\local\\programs\\python\\python312\\lib\\site-packages (4.0.2)\n",
      "Requirement already satisfied: requests in c:\\users\\pc\\appdata\\local\\programs\\python\\python312\\lib\\site-packages (from webdriver_manager) (2.32.3)\n",
      "Requirement already satisfied: python-dotenv in c:\\users\\pc\\appdata\\local\\programs\\python\\python312\\lib\\site-packages (from webdriver_manager) (1.0.1)\n",
      "Requirement already satisfied: packaging in c:\\users\\pc\\appdata\\local\\programs\\python\\python312\\lib\\site-packages (from webdriver_manager) (24.2)\n",
      "Requirement already satisfied: charset-normalizer<4,>=2 in c:\\users\\pc\\appdata\\local\\programs\\python\\python312\\lib\\site-packages (from requests->webdriver_manager) (3.4.1)\n",
      "Requirement already satisfied: idna<4,>=2.5 in c:\\users\\pc\\appdata\\local\\programs\\python\\python312\\lib\\site-packages (from requests->webdriver_manager) (3.10)\n",
      "Requirement already satisfied: urllib3<3,>=1.21.1 in c:\\users\\pc\\appdata\\local\\programs\\python\\python312\\lib\\site-packages (from requests->webdriver_manager) (2.3.0)\n",
      "Requirement already satisfied: certifi>=2017.4.17 in c:\\users\\pc\\appdata\\local\\programs\\python\\python312\\lib\\site-packages (from requests->webdriver_manager) (2025.1.31)\n",
      "Requirement already satisfied: selenium in c:\\users\\pc\\appdata\\local\\programs\\python\\python312\\lib\\site-packages (4.31.0)\n",
      "Requirement already satisfied: urllib3<3,>=1.26 in c:\\users\\pc\\appdata\\local\\programs\\python\\python312\\lib\\site-packages (from urllib3[socks]<3,>=1.26->selenium) (2.3.0)\n",
      "Requirement already satisfied: trio~=0.17 in c:\\users\\pc\\appdata\\local\\programs\\python\\python312\\lib\\site-packages (from selenium) (0.29.0)\n",
      "Requirement already satisfied: trio-websocket~=0.9 in c:\\users\\pc\\appdata\\local\\programs\\python\\python312\\lib\\site-packages (from selenium) (0.12.2)\n",
      "Requirement already satisfied: certifi>=2021.10.8 in c:\\users\\pc\\appdata\\local\\programs\\python\\python312\\lib\\site-packages (from selenium) (2025.1.31)\n",
      "Requirement already satisfied: typing_extensions~=4.9 in c:\\users\\pc\\appdata\\local\\programs\\python\\python312\\lib\\site-packages (from selenium) (4.12.2)\n",
      "Requirement already satisfied: websocket-client~=1.8 in c:\\users\\pc\\appdata\\local\\programs\\python\\python312\\lib\\site-packages (from selenium) (1.8.0)\n",
      "Requirement already satisfied: attrs>=23.2.0 in c:\\users\\pc\\appdata\\local\\programs\\python\\python312\\lib\\site-packages (from trio~=0.17->selenium) (25.3.0)\n",
      "Requirement already satisfied: sortedcontainers in c:\\users\\pc\\appdata\\local\\programs\\python\\python312\\lib\\site-packages (from trio~=0.17->selenium) (2.4.0)\n",
      "Requirement already satisfied: idna in c:\\users\\pc\\appdata\\local\\programs\\python\\python312\\lib\\site-packages (from trio~=0.17->selenium) (3.10)\n",
      "Requirement already satisfied: outcome in c:\\users\\pc\\appdata\\local\\programs\\python\\python312\\lib\\site-packages (from trio~=0.17->selenium) (1.3.0.post0)\n",
      "Requirement already satisfied: sniffio>=1.3.0 in c:\\users\\pc\\appdata\\local\\programs\\python\\python312\\lib\\site-packages (from trio~=0.17->selenium) (1.3.1)\n",
      "Requirement already satisfied: cffi>=1.14 in c:\\users\\pc\\appdata\\local\\programs\\python\\python312\\lib\\site-packages (from trio~=0.17->selenium) (1.17.1)\n",
      "Requirement already satisfied: wsproto>=0.14 in c:\\users\\pc\\appdata\\local\\programs\\python\\python312\\lib\\site-packages (from trio-websocket~=0.9->selenium) (1.2.0)\n",
      "Requirement already satisfied: pysocks!=1.5.7,<2.0,>=1.5.6 in c:\\users\\pc\\appdata\\local\\programs\\python\\python312\\lib\\site-packages (from urllib3[socks]<3,>=1.26->selenium) (1.7.1)\n",
      "Requirement already satisfied: pycparser in c:\\users\\pc\\appdata\\local\\programs\\python\\python312\\lib\\site-packages (from cffi>=1.14->trio~=0.17->selenium) (2.22)\n",
      "Requirement already satisfied: h11<1,>=0.9.0 in c:\\users\\pc\\appdata\\local\\programs\\python\\python312\\lib\\site-packages (from wsproto>=0.14->trio-websocket~=0.9->selenium) (0.14.0)\n"
     ]
    }
   ],
   "source": [
    "!pip install webdriver_manager\n",
    "!pip install selenium"
   ]
  },
  {
   "cell_type": "code",
   "execution_count": null,
   "id": "2060d024-814f-4571-ac6c-5969e15d8b4a",
   "metadata": {},
   "outputs": [],
   "source": [
    "pip install opencv-python"
   ]
  },
  {
   "cell_type": "code",
   "execution_count": 244,
   "id": "b0a51aca-3d64-4102-8ad0-8cfe20a3a090",
   "metadata": {},
   "outputs": [
    {
     "name": "stdout",
     "output_type": "stream",
     "text": [
      "Collecting validators\n",
      "  Downloading validators-0.34.0-py3-none-any.whl.metadata (3.8 kB)\n",
      "Downloading validators-0.34.0-py3-none-any.whl (43 kB)\n",
      "Installing collected packages: validators\n",
      "Successfully installed validators-0.34.0\n"
     ]
    }
   ],
   "source": [
    "!pip install validators"
   ]
  },
  {
   "cell_type": "code",
   "execution_count": 33,
   "id": "6fb65c38-1f92-48a5-a028-53528bc2420e",
   "metadata": {},
   "outputs": [
    {
     "name": "stdout",
     "output_type": "stream",
     "text": [
      "Requirement already satisfied: sentence-transformers in c:\\users\\pc\\appdata\\local\\programs\\python\\python312\\lib\\site-packages (3.4.1)\n",
      "Requirement already satisfied: transformers<5.0.0,>=4.41.0 in c:\\users\\pc\\appdata\\local\\programs\\python\\python312\\lib\\site-packages (from sentence-transformers) (4.50.0)\n",
      "Requirement already satisfied: tqdm in c:\\users\\pc\\appdata\\local\\programs\\python\\python312\\lib\\site-packages (from sentence-transformers) (4.67.1)\n",
      "Requirement already satisfied: torch>=1.11.0 in c:\\users\\pc\\appdata\\local\\programs\\python\\python312\\lib\\site-packages (from sentence-transformers) (2.7.0+cu126)\n",
      "Requirement already satisfied: scikit-learn in c:\\users\\pc\\appdata\\local\\programs\\python\\python312\\lib\\site-packages (from sentence-transformers) (1.6.1)\n",
      "Requirement already satisfied: scipy in c:\\users\\pc\\appdata\\local\\programs\\python\\python312\\lib\\site-packages (from sentence-transformers) (1.13.1)\n",
      "Requirement already satisfied: huggingface-hub>=0.20.0 in c:\\users\\pc\\appdata\\local\\programs\\python\\python312\\lib\\site-packages (from sentence-transformers) (0.29.3)\n",
      "Requirement already satisfied: Pillow in c:\\users\\pc\\appdata\\local\\programs\\python\\python312\\lib\\site-packages (from sentence-transformers) (11.1.0)\n",
      "Requirement already satisfied: filelock in c:\\users\\pc\\appdata\\local\\programs\\python\\python312\\lib\\site-packages (from huggingface-hub>=0.20.0->sentence-transformers) (3.18.0)\n",
      "Requirement already satisfied: fsspec>=2023.5.0 in c:\\users\\pc\\appdata\\local\\programs\\python\\python312\\lib\\site-packages (from huggingface-hub>=0.20.0->sentence-transformers) (2024.12.0)\n",
      "Requirement already satisfied: packaging>=20.9 in c:\\users\\pc\\appdata\\local\\programs\\python\\python312\\lib\\site-packages (from huggingface-hub>=0.20.0->sentence-transformers) (24.2)\n",
      "Requirement already satisfied: pyyaml>=5.1 in c:\\users\\pc\\appdata\\local\\programs\\python\\python312\\lib\\site-packages (from huggingface-hub>=0.20.0->sentence-transformers) (6.0.2)\n",
      "Requirement already satisfied: requests in c:\\users\\pc\\appdata\\local\\programs\\python\\python312\\lib\\site-packages (from huggingface-hub>=0.20.0->sentence-transformers) (2.32.3)\n",
      "Requirement already satisfied: typing-extensions>=3.7.4.3 in c:\\users\\pc\\appdata\\local\\programs\\python\\python312\\lib\\site-packages (from huggingface-hub>=0.20.0->sentence-transformers) (4.12.2)\n",
      "Requirement already satisfied: sympy>=1.13.3 in c:\\users\\pc\\appdata\\local\\programs\\python\\python312\\lib\\site-packages (from torch>=1.11.0->sentence-transformers) (1.14.0)\n",
      "Requirement already satisfied: networkx in c:\\users\\pc\\appdata\\local\\programs\\python\\python312\\lib\\site-packages (from torch>=1.11.0->sentence-transformers) (3.4.2)\n",
      "Requirement already satisfied: jinja2 in c:\\users\\pc\\appdata\\local\\programs\\python\\python312\\lib\\site-packages (from torch>=1.11.0->sentence-transformers) (3.1.6)\n",
      "Requirement already satisfied: setuptools in c:\\users\\pc\\appdata\\local\\programs\\python\\python312\\lib\\site-packages (from torch>=1.11.0->sentence-transformers) (77.0.3)\n",
      "Requirement already satisfied: colorama in c:\\users\\pc\\appdata\\local\\programs\\python\\python312\\lib\\site-packages (from tqdm->sentence-transformers) (0.4.6)\n",
      "Requirement already satisfied: numpy>=1.17 in c:\\users\\pc\\appdata\\local\\programs\\python\\python312\\lib\\site-packages (from transformers<5.0.0,>=4.41.0->sentence-transformers) (1.26.4)\n",
      "Requirement already satisfied: regex!=2019.12.17 in c:\\users\\pc\\appdata\\local\\programs\\python\\python312\\lib\\site-packages (from transformers<5.0.0,>=4.41.0->sentence-transformers) (2024.11.6)\n",
      "Requirement already satisfied: tokenizers<0.22,>=0.21 in c:\\users\\pc\\appdata\\local\\programs\\python\\python312\\lib\\site-packages (from transformers<5.0.0,>=4.41.0->sentence-transformers) (0.21.1)\n",
      "Requirement already satisfied: safetensors>=0.4.3 in c:\\users\\pc\\appdata\\local\\programs\\python\\python312\\lib\\site-packages (from transformers<5.0.0,>=4.41.0->sentence-transformers) (0.5.3)\n",
      "Requirement already satisfied: joblib>=1.2.0 in c:\\users\\pc\\appdata\\local\\programs\\python\\python312\\lib\\site-packages (from scikit-learn->sentence-transformers) (1.4.2)\n",
      "Requirement already satisfied: threadpoolctl>=3.1.0 in c:\\users\\pc\\appdata\\local\\programs\\python\\python312\\lib\\site-packages (from scikit-learn->sentence-transformers) (3.6.0)\n",
      "Requirement already satisfied: mpmath<1.4,>=1.1.0 in c:\\users\\pc\\appdata\\local\\programs\\python\\python312\\lib\\site-packages (from sympy>=1.13.3->torch>=1.11.0->sentence-transformers) (1.3.0)\n",
      "Requirement already satisfied: MarkupSafe>=2.0 in c:\\users\\pc\\appdata\\local\\programs\\python\\python312\\lib\\site-packages (from jinja2->torch>=1.11.0->sentence-transformers) (3.0.2)\n",
      "Requirement already satisfied: charset-normalizer<4,>=2 in c:\\users\\pc\\appdata\\local\\programs\\python\\python312\\lib\\site-packages (from requests->huggingface-hub>=0.20.0->sentence-transformers) (3.4.1)\n",
      "Requirement already satisfied: idna<4,>=2.5 in c:\\users\\pc\\appdata\\local\\programs\\python\\python312\\lib\\site-packages (from requests->huggingface-hub>=0.20.0->sentence-transformers) (3.10)\n",
      "Requirement already satisfied: urllib3<3,>=1.21.1 in c:\\users\\pc\\appdata\\local\\programs\\python\\python312\\lib\\site-packages (from requests->huggingface-hub>=0.20.0->sentence-transformers) (2.3.0)\n",
      "Requirement already satisfied: certifi>=2017.4.17 in c:\\users\\pc\\appdata\\local\\programs\\python\\python312\\lib\\site-packages (from requests->huggingface-hub>=0.20.0->sentence-transformers) (2025.1.31)\n",
      "Note: you may need to restart the kernel to use updated packages.\n"
     ]
    },
    {
     "name": "stderr",
     "output_type": "stream",
     "text": [
      "\n",
      "[notice] A new release of pip is available: 25.0.1 -> 25.1.1\n",
      "[notice] To update, run: python.exe -m pip install --upgrade pip\n"
     ]
    }
   ],
   "source": [
    "pip install sentence-transformers"
   ]
  },
  {
   "cell_type": "code",
   "execution_count": 1,
   "id": "c4040c8a-f528-4265-b035-32ad382ef6c6",
   "metadata": {},
   "outputs": [],
   "source": [
    "import pandas as pd\n",
    "import torch\n",
    "import os\n",
    "from dotenv import load_dotenv\n",
    "import openai \n",
    "import anthropic\n",
    "from PIL import Image as PILImage\n",
    "from IPython.display import Image as IPyImage, display\n",
    "import google.generativeai\n",
    "import base64\n",
    "import datetime\n",
    "from selenium import webdriver\n",
    "from selenium.webdriver.common.by import By\n",
    "from selenium.webdriver.common.keys import Keys\n",
    "from selenium.webdriver.chrome.service import Service\n",
    "from webdriver_manager.chrome import ChromeDriverManager\n",
    "import time\n",
    "import textwrap\n",
    "import os\n",
    "from sklearn.metrics import  accuracy_score,classification_report, confusion_matrix \n",
    "from tqdm.notebook import tqdm\n",
    "import re\n",
    "import validators\n",
    "import requests"
   ]
  },
  {
   "cell_type": "code",
   "execution_count": 3,
   "id": "4bfa800b-ad01-485d-a7d5-5735448545c3",
   "metadata": {},
   "outputs": [
    {
     "name": "stdout",
     "output_type": "stream",
     "text": [
      "OpenAI API Key exists and begins sk-proj-\n",
      "Anthropic API Key exists and begins sk-ant-\n",
      "Google API Key exists and begins AIzaSyBE\n"
     ]
    }
   ],
   "source": [
    "# Load environment variables in a file called .env\n",
    "# Print the key prefixes to help with any debugging\n",
    "\n",
    "load_dotenv(override=True)\n",
    "openai_api_key = os.getenv('OPENAI_API_KEY')\n",
    "anthropic_api_key = os.getenv('ANTHROPIC_API_KEY')\n",
    "google_api_key = os.getenv('GOOGLE_API_KEY')\n",
    "\n",
    "if openai_api_key:\n",
    "    print(f\"OpenAI API Key exists and begins {openai_api_key[:8]}\")\n",
    "else:\n",
    "    print(\"OpenAI API Key not set\")\n",
    "    \n",
    "if anthropic_api_key:\n",
    "    print(f\"Anthropic API Key exists and begins {anthropic_api_key[:7]}\")\n",
    "else:\n",
    "    print(\"Anthropic API Key not set\")\n",
    "\n",
    "if google_api_key:\n",
    "    print(f\"Google API Key exists and begins {google_api_key[:8]}\")\n",
    "else:\n",
    "    print(\"Google API Key not set\")"
   ]
  },
  {
   "cell_type": "code",
   "execution_count": 3,
   "id": "6b1cc786-a60c-4c82-8faa-36dd540b50ce",
   "metadata": {},
   "outputs": [],
   "source": [
    "notebook_dir = os.path.dirname(os.path.abspath(\"Fnd_notebook.ipynb\"))\n",
    "# IMG_PATH=os.path.join(notebook_dir, 'public_images', 'public_image_set')\n",
    "IMG_PATH = os.path.join(notebook_dir, '..', 'public_images', 'public_image_set')"
   ]
  },
  {
   "cell_type": "code",
   "execution_count": 4,
   "id": "fe1f3157-a378-4e17-b50e-45a2fa7d796b",
   "metadata": {},
   "outputs": [],
   "source": [
    "google.generativeai.configure()"
   ]
  },
  {
   "cell_type": "code",
   "execution_count": 5,
   "id": "c6181818-a1e4-4edd-ad19-f0b45f7f783c",
   "metadata": {},
   "outputs": [],
   "source": [
    "train_df=pd.read_table(\"../datasets/raw/multimodal_train.tsv\")\n",
    "val_df=pd.read_table(\"../datasets/raw/multimodal_validate.tsv\")\n",
    "test_df=pd.read_table(\"../datasets/raw/multimodal_test_public.tsv\")"
   ]
  },
  {
   "cell_type": "code",
   "execution_count": 6,
   "id": "025b63e1-7cd1-46cf-baba-1c0464fef792",
   "metadata": {},
   "outputs": [
    {
     "data": {
      "text/html": [
       "<div>\n",
       "<style scoped>\n",
       "    .dataframe tbody tr th:only-of-type {\n",
       "        vertical-align: middle;\n",
       "    }\n",
       "\n",
       "    .dataframe tbody tr th {\n",
       "        vertical-align: top;\n",
       "    }\n",
       "\n",
       "    .dataframe thead th {\n",
       "        text-align: right;\n",
       "    }\n",
       "</style>\n",
       "<table border=\"1\" class=\"dataframe\">\n",
       "  <thead>\n",
       "    <tr style=\"text-align: right;\">\n",
       "      <th></th>\n",
       "      <th>author</th>\n",
       "      <th>clean_title</th>\n",
       "      <th>created_utc</th>\n",
       "      <th>domain</th>\n",
       "      <th>hasImage</th>\n",
       "      <th>id</th>\n",
       "      <th>image_url</th>\n",
       "      <th>linked_submission_id</th>\n",
       "      <th>num_comments</th>\n",
       "      <th>score</th>\n",
       "      <th>subreddit</th>\n",
       "      <th>title</th>\n",
       "      <th>upvote_ratio</th>\n",
       "      <th>2_way_label</th>\n",
       "      <th>3_way_label</th>\n",
       "      <th>6_way_label</th>\n",
       "    </tr>\n",
       "  </thead>\n",
       "  <tbody>\n",
       "    <tr>\n",
       "      <th>0</th>\n",
       "      <td>Alexithymia</td>\n",
       "      <td>my walgreens offbrand mucinex was engraved wit...</td>\n",
       "      <td>1.551641e+09</td>\n",
       "      <td>i.imgur.com</td>\n",
       "      <td>True</td>\n",
       "      <td>awxhir</td>\n",
       "      <td>https://external-preview.redd.it/WylDbZrnbvZdB...</td>\n",
       "      <td>NaN</td>\n",
       "      <td>2.0</td>\n",
       "      <td>12</td>\n",
       "      <td>mildlyinteresting</td>\n",
       "      <td>My Walgreens offbrand Mucinex was engraved wit...</td>\n",
       "      <td>0.84</td>\n",
       "      <td>1</td>\n",
       "      <td>0</td>\n",
       "      <td>0</td>\n",
       "    </tr>\n",
       "    <tr>\n",
       "      <th>1</th>\n",
       "      <td>VIDCAs17</td>\n",
       "      <td>this concerned sink with a tiny hat</td>\n",
       "      <td>1.534727e+09</td>\n",
       "      <td>i.redd.it</td>\n",
       "      <td>True</td>\n",
       "      <td>98pbid</td>\n",
       "      <td>https://preview.redd.it/wsfx0gp0f5h11.jpg?widt...</td>\n",
       "      <td>NaN</td>\n",
       "      <td>2.0</td>\n",
       "      <td>119</td>\n",
       "      <td>pareidolia</td>\n",
       "      <td>This concerned sink with a tiny hat</td>\n",
       "      <td>0.99</td>\n",
       "      <td>0</td>\n",
       "      <td>2</td>\n",
       "      <td>2</td>\n",
       "    </tr>\n",
       "    <tr>\n",
       "      <th>2</th>\n",
       "      <td>prometheus1123</td>\n",
       "      <td>hackers leak emails from uae ambassador to us</td>\n",
       "      <td>1.496511e+09</td>\n",
       "      <td>aljazeera.com</td>\n",
       "      <td>True</td>\n",
       "      <td>6f2cy5</td>\n",
       "      <td>https://external-preview.redd.it/6fNhdbc6K1vFA...</td>\n",
       "      <td>NaN</td>\n",
       "      <td>1.0</td>\n",
       "      <td>44</td>\n",
       "      <td>neutralnews</td>\n",
       "      <td>Hackers leak emails from UAE ambassador to US</td>\n",
       "      <td>0.92</td>\n",
       "      <td>1</td>\n",
       "      <td>0</td>\n",
       "      <td>0</td>\n",
       "    </tr>\n",
       "    <tr>\n",
       "      <th>3</th>\n",
       "      <td>NaN</td>\n",
       "      <td>puppy taking in the view</td>\n",
       "      <td>1.471341e+09</td>\n",
       "      <td>i.imgur.com</td>\n",
       "      <td>True</td>\n",
       "      <td>4xypkv</td>\n",
       "      <td>https://external-preview.redd.it/HLtVNhTR6wtYt...</td>\n",
       "      <td>NaN</td>\n",
       "      <td>26.0</td>\n",
       "      <td>250</td>\n",
       "      <td>photoshopbattles</td>\n",
       "      <td>PsBattle: Puppy taking in the view</td>\n",
       "      <td>0.95</td>\n",
       "      <td>1</td>\n",
       "      <td>0</td>\n",
       "      <td>0</td>\n",
       "    </tr>\n",
       "    <tr>\n",
       "      <th>4</th>\n",
       "      <td>3rikR3ith</td>\n",
       "      <td>i found a face in my sheet music too</td>\n",
       "      <td>1.525318e+09</td>\n",
       "      <td>i.redd.it</td>\n",
       "      <td>True</td>\n",
       "      <td>8gnet9</td>\n",
       "      <td>https://preview.redd.it/ri7ut2wn8kv01.jpg?widt...</td>\n",
       "      <td>NaN</td>\n",
       "      <td>2.0</td>\n",
       "      <td>13</td>\n",
       "      <td>pareidolia</td>\n",
       "      <td>I found a face in my sheet music too!</td>\n",
       "      <td>0.84</td>\n",
       "      <td>0</td>\n",
       "      <td>2</td>\n",
       "      <td>2</td>\n",
       "    </tr>\n",
       "  </tbody>\n",
       "</table>\n",
       "</div>"
      ],
      "text/plain": [
       "           author                                        clean_title  \\\n",
       "0     Alexithymia  my walgreens offbrand mucinex was engraved wit...   \n",
       "1        VIDCAs17                this concerned sink with a tiny hat   \n",
       "2  prometheus1123      hackers leak emails from uae ambassador to us   \n",
       "3             NaN                           puppy taking in the view   \n",
       "4       3rikR3ith               i found a face in my sheet music too   \n",
       "\n",
       "    created_utc         domain  hasImage      id  \\\n",
       "0  1.551641e+09    i.imgur.com      True  awxhir   \n",
       "1  1.534727e+09      i.redd.it      True  98pbid   \n",
       "2  1.496511e+09  aljazeera.com      True  6f2cy5   \n",
       "3  1.471341e+09    i.imgur.com      True  4xypkv   \n",
       "4  1.525318e+09      i.redd.it      True  8gnet9   \n",
       "\n",
       "                                           image_url linked_submission_id  \\\n",
       "0  https://external-preview.redd.it/WylDbZrnbvZdB...                  NaN   \n",
       "1  https://preview.redd.it/wsfx0gp0f5h11.jpg?widt...                  NaN   \n",
       "2  https://external-preview.redd.it/6fNhdbc6K1vFA...                  NaN   \n",
       "3  https://external-preview.redd.it/HLtVNhTR6wtYt...                  NaN   \n",
       "4  https://preview.redd.it/ri7ut2wn8kv01.jpg?widt...                  NaN   \n",
       "\n",
       "   num_comments  score          subreddit  \\\n",
       "0           2.0     12  mildlyinteresting   \n",
       "1           2.0    119         pareidolia   \n",
       "2           1.0     44        neutralnews   \n",
       "3          26.0    250   photoshopbattles   \n",
       "4           2.0     13         pareidolia   \n",
       "\n",
       "                                               title  upvote_ratio  \\\n",
       "0  My Walgreens offbrand Mucinex was engraved wit...          0.84   \n",
       "1                This concerned sink with a tiny hat          0.99   \n",
       "2      Hackers leak emails from UAE ambassador to US          0.92   \n",
       "3                 PsBattle: Puppy taking in the view          0.95   \n",
       "4              I found a face in my sheet music too!          0.84   \n",
       "\n",
       "   2_way_label  3_way_label  6_way_label  \n",
       "0            1            0            0  \n",
       "1            0            2            2  \n",
       "2            1            0            0  \n",
       "3            1            0            0  \n",
       "4            0            2            2  "
      ]
     },
     "execution_count": 6,
     "metadata": {},
     "output_type": "execute_result"
    }
   ],
   "source": [
    "train_df.head()"
   ]
  },
  {
   "cell_type": "code",
   "execution_count": 7,
   "id": "4b19d781-5a6f-4e84-9c30-fc2968b79bcf",
   "metadata": {},
   "outputs": [
    {
     "data": {
      "text/plain": [
       "author                   28710\n",
       "clean_title                  0\n",
       "created_utc                  0\n",
       "domain                  167857\n",
       "hasImage                     0\n",
       "id                           0\n",
       "image_url                 1534\n",
       "linked_submission_id    396143\n",
       "num_comments            167857\n",
       "score                        0\n",
       "subreddit                    0\n",
       "title                        0\n",
       "upvote_ratio            167857\n",
       "2_way_label                  0\n",
       "3_way_label                  0\n",
       "6_way_label                  0\n",
       "dtype: int64"
      ]
     },
     "execution_count": 7,
     "metadata": {},
     "output_type": "execute_result"
    }
   ],
   "source": [
    "train_df.isnull().sum()"
   ]
  },
  {
   "cell_type": "code",
   "execution_count": 8,
   "id": "41fd8725-b544-41dd-84a1-54a19f8e2798",
   "metadata": {},
   "outputs": [
    {
     "name": "stdout",
     "output_type": "stream",
     "text": [
      "<class 'pandas.core.frame.DataFrame'>\n",
      "RangeIndex: 59319 entries, 0 to 59318\n",
      "Data columns (total 16 columns):\n",
      " #   Column                Non-Null Count  Dtype  \n",
      "---  ------                --------------  -----  \n",
      " 0   author                56251 non-null  object \n",
      " 1   clean_title           59319 non-null  object \n",
      " 2   created_utc           59319 non-null  float64\n",
      " 3   domain                41847 non-null  object \n",
      " 4   hasImage              59319 non-null  bool   \n",
      " 5   id                    59319 non-null  object \n",
      " 6   image_url             59163 non-null  object \n",
      " 7   linked_submission_id  17472 non-null  object \n",
      " 8   num_comments          41847 non-null  float64\n",
      " 9   score                 59319 non-null  int64  \n",
      " 10  subreddit             59319 non-null  object \n",
      " 11  title                 59319 non-null  object \n",
      " 12  upvote_ratio          41847 non-null  float64\n",
      " 13  2_way_label           59319 non-null  int64  \n",
      " 14  3_way_label           59319 non-null  int64  \n",
      " 15  6_way_label           59319 non-null  int64  \n",
      "dtypes: bool(1), float64(3), int64(4), object(8)\n",
      "memory usage: 6.8+ MB\n"
     ]
    }
   ],
   "source": [
    "test_df.info()"
   ]
  },
  {
   "cell_type": "code",
   "execution_count": 9,
   "id": "8266a2a2-da1a-416b-afd6-cf95d641a0cb",
   "metadata": {},
   "outputs": [],
   "source": [
    "def class_report(y_test,y_pred):\n",
    "    accuracy =accuracy_score(y_test,y_pred)\n",
    "    classification = classification_report(y_test,y_pred)\n",
    "    print()\n",
    "    print('=================== Model Evaluation =====================')\n",
    "    print()\n",
    "    print(\"Classification report:\" \"\\n\", classification)\n",
    "    print()\n",
    "    return accuracy"
   ]
  },
  {
   "cell_type": "code",
   "execution_count": 10,
   "id": "3ec70242-ed28-4d40-af15-7ea8aa171103",
   "metadata": {},
   "outputs": [],
   "source": [
    "def conf_matrix(y_test,y_pred,acc):\n",
    "    cm = confusion_matrix(y_test, y_pred)\n",
    "    plt.figure(figsize=(10,6))\n",
    "    sns.heatmap(data=cm,linewidths=.5, annot=True,square = True,  cmap = 'Blues', fmt=\"d\")\n",
    "    plt.ylabel('Actual label')\n",
    "    plt.xlabel('Predicted label')\n",
    "    all_sample_title = 'Accuracy Score: {0}'.format(acc)\n",
    "    plt.title(all_sample_title, size = 25)"
   ]
  },
  {
   "cell_type": "code",
   "execution_count": 11,
   "id": "7fea548d-fbfd-43ce-8180-2e2872aef93f",
   "metadata": {},
   "outputs": [],
   "source": [
    "def remove_na_rows(df,col):\n",
    "   return df.dropna(subset=[col])"
   ]
  },
  {
   "cell_type": "code",
   "execution_count": 32,
   "id": "cf85a6a0-fe4d-4d86-80bf-7e89e13b874e",
   "metadata": {},
   "outputs": [],
   "source": [
    "def subset_df(df,cols):\n",
    "   return df[cols]"
   ]
  },
  {
   "cell_type": "code",
   "execution_count": 19,
   "id": "aba7d5aa-0b3f-4874-859d-340884e74616",
   "metadata": {},
   "outputs": [],
   "source": [
    "def encode_image(image_source):\n",
    "    print(image_source)\n",
    "    if image_source.startswith(\"http://\") or image_source.startswith(\"https://\"):\n",
    "        # Handle URL\n",
    "        headers = {\"User-Agent\": \"Mozilla/5.0\"}\n",
    "\n",
    "        response = requests.get(image_source,headers=headers)\n",
    "        if response.status_code == 200:\n",
    "            return base64.b64encode(response.content).decode('utf-8')\n",
    "        else:\n",
    "            raise Exception(f\"Failed to fetch image from URL: {image_source}\")\n",
    "    elif os.path.exists(image_source):\n",
    "        # Handle local file\n",
    "        with open(image_source, \"rb\") as image_file:\n",
    "            return base64.b64encode(image_file.read()).decode('utf-8')\n",
    "    else:\n",
    "        raise ValueError(\"Invalid image source. Provide a valid file path or image URL.\")"
   ]
  },
  {
   "cell_type": "code",
   "execution_count": 43,
   "id": "87430710-9879-4e5a-85fe-817b4c27fd53",
   "metadata": {},
   "outputs": [],
   "source": [
    "def google_image_search(query, num_images=5):\n",
    "    # Set up Chrome with WebDriver Manager\n",
    "    options = webdriver.ChromeOptions()\n",
    "    options.add_argument(\"--headless\")  # run in background\n",
    "    options.add_argument(\"--disable-gpu\")\n",
    "    driver = webdriver.Chrome(service=Service(ChromeDriverManager().install()), options=options)\n",
    "\n",
    "    try:\n",
    "        # Step 1: Go to Google Images\n",
    "        driver.get(\"https://images.google.com/\")\n",
    "        time.sleep(1)\n",
    "\n",
    "        # Step 2: Enter the search query\n",
    "        search_box = driver.find_element(By.NAME, \"q\")\n",
    "        search_box.send_keys(query)\n",
    "        search_box.send_keys(Keys.RETURN)\n",
    "        time.sleep(2)\n",
    "\n",
    "        # Step 3: Extract image URLs\n",
    "        image_sections = driver.find_elements(By.XPATH, '//div[@id=\"search\"]//div[@data-attrid=\"images universal\"]')[:num_images]\n",
    "        \n",
    "        all_section_images=[]\n",
    "        for idx, section in enumerate(image_sections, 1):\n",
    "        # Within each section, find all img tags with src\n",
    "           imgs = section.find_elements(By.XPATH, './/div[2]//img[@src]')\n",
    "           image_urls = [img.get_attribute(\"src\") for img in imgs if img.get_attribute(\"src\")]\n",
    "           all_section_images.append(image_urls)\n",
    "\n",
    "    \n",
    "\n",
    "    finally:\n",
    "        driver.quit()\n",
    "    return all_section_images   \n",
    "\n"
   ]
  },
  {
   "cell_type": "code",
   "execution_count": 18,
   "id": "b5603369-0e95-42bc-97bb-6f64e0b3233f",
   "metadata": {},
   "outputs": [],
   "source": [
    "def is_url(s):\n",
    "    return validators.url(s)"
   ]
  },
  {
   "cell_type": "code",
   "execution_count": 12,
   "id": "8a0f1cbd-be21-4136-b2c8-b768736e40ae",
   "metadata": {},
   "outputs": [],
   "source": [
    "def get_image_filename(url):\n",
    "    # Use regular expression to find the part after '.com/' and before '.jpg'\n",
    "    match = re.search(r'\\.com/(.*?)(?=\\.[a-zA-Z]{3,4})', url)  # Match part between '.com/' and file extension\n",
    "    if match:\n",
    "        return match.group(1).replace('/', '_')  # Replace '/' with '_' for safe filenames\n",
    "    return None  # Return None if no match is found"
   ]
  },
  {
   "cell_type": "code",
   "execution_count": 13,
   "id": "7be150b9-b8ab-454d-bc91-e47f08be051c",
   "metadata": {},
   "outputs": [],
   "source": [
    "##"
   ]
  },
  {
   "cell_type": "code",
   "execution_count": 14,
   "id": "e2ffe928-7c8e-48db-994a-23b79c2e3f46",
   "metadata": {},
   "outputs": [],
   "source": [
    "def match_image_title(df,index,id_col,title_col,scraped_imgs_url):\n",
    "\n",
    "   # Construct the image path dynamically\n",
    "   if is_url(df[id_col].iloc[index]):\n",
    "       image_path_url = get_image_filename(df[id_col].iloc[index])\n",
    "       image_path = os.path.join(IMG_PATH, f\"{image_path_url}.jpg\")\n",
    "   else:    \n",
    "       image_path = os.path.join(IMG_PATH, f\"{df[id_col].iloc[index]}.jpg\")\n",
    "   encoded_image = encode_image(image_path)\n",
    "   print(encoded_image)\n",
    "   display(PILImage(encoded_image))\n",
    "\n",
    "   result = openai.chat.completions.create(\n",
    "     model=\"gpt-4-turbo\",\n",
    "     messages = [{\n",
    "      \"role\": \"user\",\n",
    "      \"content\": [\n",
    "        {\"type\": \"text\", \"text\": f\"This is title {df[title_col].iloc[index]}\"},\n",
    "        {\"type\": \"text\", \"text\": \"Do you think title correctly describes the first image? If you are unsure about it check reference images and match first image with reference images.If it is a person in first image, match first image with reference images and see if they are same person.Respond with yes or no and briefly explain\"},\n",
    "        {\"type\": \"image_url\", \"image_url\": {\"url\": f\"data:image/jpeg;base64,{encoded_image}\"}},\n",
    "       ] + [\n",
    "        {\"type\": \"image_url\", \"image_url\": {\"url\": ref_img}}\n",
    "        for ref_img in scraped_imgs_url \n",
    "      ]\n",
    "   }],\n",
    "    max_tokens=200\n",
    "   )\n",
    "   return textwrap.fill(result.choices[0].message.content, width=70)"
   ]
  },
  {
   "cell_type": "code",
   "execution_count": 15,
   "id": "0c6b4eb5-a61e-4ba9-b778-a5bc9680a16d",
   "metadata": {},
   "outputs": [],
   "source": [
    "def generate_query(df, title_col, date_col, index):\n",
    "    date_val = df[date_col].iloc[index]\n",
    "    print(date_val)\n",
    "    # Check if the value is numeric (UNIX timestamp)\n",
    "    if isinstance(date_val, (int, float)):\n",
    "        dt = datetime.datetime.utcfromtimestamp(date_val)\n",
    "    elif isinstance(date_val, str):\n",
    "        try:\n",
    "            dt = datetime.datetime.strptime(date_val, '%Y-%m-%d %H:%M:%S')\n",
    "        except ValueError:\n",
    "            return f\"{df[title_col].iloc[index]}\"  # Fallback if format is unexpected\n",
    "    else:\n",
    "        return f\"{df[title_col].iloc[index]}\"  # Fallback for unknown types\n",
    "\n",
    "    year = dt.year\n",
    "    return f\"{df[title_col].iloc[index]} {year}\""
   ]
  },
  {
   "cell_type": "code",
   "execution_count": 16,
   "id": "f0780d64-7177-45c0-a407-85ce62776b57",
   "metadata": {},
   "outputs": [],
   "source": [
    "# Example usage:\n",
    "def predict_news_using_similarity(df,index,id_col,title_col,date_col):\n",
    "   query=generate_query(df,title_col,date_col,index)\n",
    "   print(query)\n",
    "   images = google_image_search(f\"{query}\", num_images=5)\n",
    "   scraped_imgs_url=[]\n",
    "   for i, url in enumerate(images, 1):\n",
    "     scraped_imgs_url.append(url[0])\n",
    "     # print(f\"Image {i}: {url[0]}\")\n",
    "    \n",
    "   content=match_image_title(df,index,id_col,title_col,scraped_imgs_url)\n",
    "   print(content) \n",
    "   # match = re.match(r\"^(Yes|No)[,:\\s-]*\", content, re.IGNORECASE)\n",
    "   # if match:\n",
    "   #      answer = match.group(1).lower()\n",
    "   #      binary_label = 1 if answer == \"yes\" else 0\n",
    "   #      reasoning = content[len(match.group(0)):].strip()\n",
    "   # else:\n",
    "   #      binary_label = None\n",
    "   #      reasoning = content\n",
    "\n",
    "   #  # Save to the dataframe\n",
    "   # df.at[index, 'match_label'] = binary_label\n",
    "   # df.at[index, 'match_reasoning'] = reasoning\n",
    "   # df.at[index, 'scraped_reference_imgs']=scraped_imgs_url"
   ]
  },
  {
   "cell_type": "code",
   "execution_count": 43,
   "id": "e8d68279-b901-4e4e-9e8f-41f89103e859",
   "metadata": {},
   "outputs": [],
   "source": [
    "train_df_cleaned=subset_df(remove_na_rows(train_df,'image_url'),['id','clean_title', 'created_utc', 'image_url','2_way_label'])\n",
    "val_df_cleaned=subset_df(remove_na_rows(val_df,'image_url'),['id','clean_title', 'created_utc', 'image_url','2_way_label'])\n",
    "test_df_cleaned=subset_df(remove_na_rows(test_df,'image_url'),['id','clean_title', 'created_utc', 'image_url','2_way_label'])"
   ]
  },
  {
   "cell_type": "code",
   "execution_count": 44,
   "id": "dabe6a13-190c-475d-be0c-f49c794f2a26",
   "metadata": {},
   "outputs": [],
   "source": [
    "id_col='id'\n",
    "title_col='clean_title'\n",
    "date_col='created_utc'"
   ]
  },
  {
   "cell_type": "code",
   "execution_count": 47,
   "id": "ab8b3915-9d5e-4970-a317-f7f62ca00deb",
   "metadata": {},
   "outputs": [],
   "source": [
    "img_title_test_pred=test_df_cleaned.copy()\n",
    "# img_title_test_pred['match_label'] = None\n",
    "# img_title_test_pred['match_reasoning'] = None\n",
    "# img_title_test_pred['scraped_reference_imgs'] = None"
   ]
  },
  {
   "cell_type": "code",
   "execution_count": 152,
   "id": "10076930-7192-4839-8567-ee4e0b1cd96e",
   "metadata": {},
   "outputs": [
    {
     "name": "stdout",
     "output_type": "stream",
     "text": [
      "2_way_label\n",
      "0    35763\n",
      "1    23400\n",
      "Name: count, dtype: int64\n"
     ]
    }
   ],
   "source": [
    "label_counts = test_df_cleaned['2_way_label'].value_counts()\n",
    "print(label_counts)"
   ]
  },
  {
   "cell_type": "code",
   "execution_count": null,
   "id": "2c8748e9-82bc-424c-9562-cfe7a0124bc9",
   "metadata": {},
   "outputs": [],
   "source": [
    "for i in tqdm(range(0, 1), desc=\"Processing Rows\"):\n",
    "    try:\n",
    "        predict_news_using_similarity(img_title_test_pred,i,id_col,title_col,date_col)\n",
    "    except Exception as e:\n",
    "        print(f\"Error processing index {i}: {e}\")"
   ]
  },
  {
   "cell_type": "code",
   "execution_count": 142,
   "id": "7388b32c-5b47-430f-b351-51b8f0b5f710",
   "metadata": {},
   "outputs": [
    {
     "data": {
      "text/plain": [
       "'the rise of italian fascism circa'"
      ]
     },
     "execution_count": 142,
     "metadata": {},
     "output_type": "execute_result"
    }
   ],
   "source": [
    "img_title_test_pred['clean_title'][5]"
   ]
  },
  {
   "cell_type": "code",
   "execution_count": 144,
   "id": "6f9ee110-a10e-4426-9c7c-c59f141b2f7a",
   "metadata": {},
   "outputs": [
    {
     "name": "stdout",
     "output_type": "stream",
     "text": [
      "C:\\Users\\pc\\Documents\\Journal Work Code\\public_images\\public_image_set\\8g3xtm.jpg\n"
     ]
    },
    {
     "data": {
      "image/jpeg": "[encoded data removed]",
      "text/plain": [
       "<IPython.core.display.Image object>"
      ]
     },
     "metadata": {},
     "output_type": "display_data"
    }
   ],
   "source": [
    "\n",
    "image_path = os.path.join(notebook_dir, 'public_images', 'public_image_set', f\"{img_title_test_pred['id'].iloc[6]}.jpg\")\n",
    "encoded_image = encode_image(image_path)\n",
    "display(Image(image_path))"
   ]
  },
  {
   "cell_type": "code",
   "execution_count": 87,
   "id": "344e70b4-1d81-4493-876a-70c688b98407",
   "metadata": {},
   "outputs": [],
   "source": [
    "test_df_process=pd.read_csv(\"../datasets/processed/img_title_test_pred.csv\")"
   ]
  },
  {
   "cell_type": "code",
   "execution_count": 88,
   "id": "a5b0f30a-60bf-45cb-95b3-b8d2d71eb660",
   "metadata": {},
   "outputs": [
    {
     "data": {
      "text/html": [
       "<div>\n",
       "<style scoped>\n",
       "    .dataframe tbody tr th:only-of-type {\n",
       "        vertical-align: middle;\n",
       "    }\n",
       "\n",
       "    .dataframe tbody tr th {\n",
       "        vertical-align: top;\n",
       "    }\n",
       "\n",
       "    .dataframe thead th {\n",
       "        text-align: right;\n",
       "    }\n",
       "</style>\n",
       "<table border=\"1\" class=\"dataframe\">\n",
       "  <thead>\n",
       "    <tr style=\"text-align: right;\">\n",
       "      <th></th>\n",
       "      <th>id</th>\n",
       "      <th>clean_title</th>\n",
       "      <th>created_utc</th>\n",
       "      <th>image_url</th>\n",
       "      <th>2_way_label</th>\n",
       "      <th>match_label</th>\n",
       "      <th>match_reasoning</th>\n",
       "      <th>scraped_reference_imgs</th>\n",
       "    </tr>\n",
       "  </thead>\n",
       "  <tbody>\n",
       "    <tr>\n",
       "      <th>0</th>\n",
       "      <td>cozywbv</td>\n",
       "      <td>stargazer</td>\n",
       "      <td>1.425139e+09</td>\n",
       "      <td>http://i.imgur.com/BruWKDi.jpg</td>\n",
       "      <td>0</td>\n",
       "      <td>1.0</td>\n",
       "      <td>the title \"Stargazer\" correctly describes the ...</td>\n",
       "      <td>['data:image/jpeg;base64,/9j/4AAQSkZJRgABAQAAA...</td>\n",
       "    </tr>\n",
       "    <tr>\n",
       "      <th>1</th>\n",
       "      <td>ctk61yw</td>\n",
       "      <td>yeah</td>\n",
       "      <td>1.438173e+09</td>\n",
       "      <td>http://i.imgur.com/JRZT727.jpg</td>\n",
       "      <td>0</td>\n",
       "      <td>0.0</td>\n",
       "      <td>the title does not correctly describe the firs...</td>\n",
       "      <td>['data:image/jpeg;base64,/9j/4AAQSkZJRgABAQAAA...</td>\n",
       "    </tr>\n",
       "    <tr>\n",
       "      <th>2</th>\n",
       "      <td>c0gl7r</td>\n",
       "      <td>pd phoenix car thief gets instructions from yo...</td>\n",
       "      <td>1.560492e+09</td>\n",
       "      <td>https://external-preview.redd.it/1A2_4VwgS8Qd2...</td>\n",
       "      <td>1</td>\n",
       "      <td>1.0</td>\n",
       "      <td>the title \"PD: Phoenix Car Thief Gets Instruct...</td>\n",
       "      <td>['data:image/jpeg;base64,/9j/4AAQSkZJRgABAQAAA...</td>\n",
       "    </tr>\n",
       "    <tr>\n",
       "      <th>3</th>\n",
       "      <td>c0xdqy</td>\n",
       "      <td>as trump accuses iran he has one problem his o...</td>\n",
       "      <td>1.560606e+09</td>\n",
       "      <td>https://external-preview.redd.it/9BKRcgvaobpTo...</td>\n",
       "      <td>1</td>\n",
       "      <td>1.0</td>\n",
       "      <td>the title \"As Trump accuses Iran, he has one p...</td>\n",
       "      <td>['data:image/jpeg;base64,/9j/4AAQSkZJRgABAQAAA...</td>\n",
       "    </tr>\n",
       "    <tr>\n",
       "      <th>4</th>\n",
       "      <td>7o9rmx</td>\n",
       "      <td>believers hezbollah</td>\n",
       "      <td>1.515139e+09</td>\n",
       "      <td>https://external-preview.redd.it/rbwXHncnjVh51...</td>\n",
       "      <td>0</td>\n",
       "      <td>0.0</td>\n",
       "      <td>the title \"Believers Hezbollah\" does not corre...</td>\n",
       "      <td>['data:image/jpeg;base64,/9j/4AAQSkZJRgABAQAAA...</td>\n",
       "    </tr>\n",
       "    <tr>\n",
       "      <th>5</th>\n",
       "      <td>bdfxf1</td>\n",
       "      <td>the rise of italian fascism circa</td>\n",
       "      <td>1.555335e+09</td>\n",
       "      <td>https://preview.redd.it/jpapt6auifs21.jpg?widt...</td>\n",
       "      <td>0</td>\n",
       "      <td>1.0</td>\n",
       "      <td>the title \"The Rise of Italian Fascism\" does c...</td>\n",
       "      <td>['data:image/jpeg;base64,/9j/4AAQSkZJRgABAQAAA...</td>\n",
       "    </tr>\n",
       "    <tr>\n",
       "      <th>6</th>\n",
       "      <td>8g3xtm</td>\n",
       "      <td>trumps pick to lead ice who touted surge in im...</td>\n",
       "      <td>1.525131e+09</td>\n",
       "      <td>https://external-preview.redd.it/4-bDBCtwD9WQG...</td>\n",
       "      <td>1</td>\n",
       "      <td>0.0</td>\n",
       "      <td>the title does not correctly describe the firs...</td>\n",
       "      <td>['data:image/jpeg;base64,/9j/4AAQSkZJRgABAQAAA...</td>\n",
       "    </tr>\n",
       "    <tr>\n",
       "      <th>7</th>\n",
       "      <td>26kwdf</td>\n",
       "      <td>my friend midflip</td>\n",
       "      <td>1.401165e+09</td>\n",
       "      <td>https://external-preview.redd.it/Kz4CnSWPYNMAt...</td>\n",
       "      <td>1</td>\n",
       "      <td>1.0</td>\n",
       "      <td>the title \"my friend midflip\" correctly descri...</td>\n",
       "      <td>['data:image/jpeg;base64,/9j/4AAQSkZJRgABAQAAA...</td>\n",
       "    </tr>\n",
       "    <tr>\n",
       "      <th>8</th>\n",
       "      <td>2s0xuj</td>\n",
       "      <td>look at this cool iphone case i got the other day</td>\n",
       "      <td>1.420945e+09</td>\n",
       "      <td>https://external-preview.redd.it/m09Q0aKBAlSH8...</td>\n",
       "      <td>0</td>\n",
       "      <td>0.0</td>\n",
       "      <td>the title does not correctly describe the firs...</td>\n",
       "      <td>['data:image/jpeg;base64,/9j/4AAQSkZJRgABAQAAA...</td>\n",
       "    </tr>\n",
       "    <tr>\n",
       "      <th>9</th>\n",
       "      <td>cbyjnry</td>\n",
       "      <td>my rope flying off a friend swing</td>\n",
       "      <td>1.377888e+09</td>\n",
       "      <td>http://i.imgur.com/52f5Qlg.jpg</td>\n",
       "      <td>0</td>\n",
       "      <td>0.0</td>\n",
       "      <td>the title does not correctly describe the firs...</td>\n",
       "      <td>['data:image/jpeg;base64,/9j/4AAQSkZJRgABAQAAA...</td>\n",
       "    </tr>\n",
       "  </tbody>\n",
       "</table>\n",
       "</div>"
      ],
      "text/plain": [
       "        id                                        clean_title   created_utc  \\\n",
       "0  cozywbv                                          stargazer  1.425139e+09   \n",
       "1  ctk61yw                                               yeah  1.438173e+09   \n",
       "2   c0gl7r  pd phoenix car thief gets instructions from yo...  1.560492e+09   \n",
       "3   c0xdqy  as trump accuses iran he has one problem his o...  1.560606e+09   \n",
       "4   7o9rmx                                believers hezbollah  1.515139e+09   \n",
       "5   bdfxf1                  the rise of italian fascism circa  1.555335e+09   \n",
       "6   8g3xtm  trumps pick to lead ice who touted surge in im...  1.525131e+09   \n",
       "7   26kwdf                                  my friend midflip  1.401165e+09   \n",
       "8   2s0xuj  look at this cool iphone case i got the other day  1.420945e+09   \n",
       "9  cbyjnry                  my rope flying off a friend swing  1.377888e+09   \n",
       "\n",
       "                                           image_url  2_way_label  \\\n",
       "0                     http://i.imgur.com/BruWKDi.jpg            0   \n",
       "1                     http://i.imgur.com/JRZT727.jpg            0   \n",
       "2  https://external-preview.redd.it/1A2_4VwgS8Qd2...            1   \n",
       "3  https://external-preview.redd.it/9BKRcgvaobpTo...            1   \n",
       "4  https://external-preview.redd.it/rbwXHncnjVh51...            0   \n",
       "5  https://preview.redd.it/jpapt6auifs21.jpg?widt...            0   \n",
       "6  https://external-preview.redd.it/4-bDBCtwD9WQG...            1   \n",
       "7  https://external-preview.redd.it/Kz4CnSWPYNMAt...            1   \n",
       "8  https://external-preview.redd.it/m09Q0aKBAlSH8...            0   \n",
       "9                     http://i.imgur.com/52f5Qlg.jpg            0   \n",
       "\n",
       "   match_label                                    match_reasoning  \\\n",
       "0          1.0  the title \"Stargazer\" correctly describes the ...   \n",
       "1          0.0  the title does not correctly describe the firs...   \n",
       "2          1.0  the title \"PD: Phoenix Car Thief Gets Instruct...   \n",
       "3          1.0  the title \"As Trump accuses Iran, he has one p...   \n",
       "4          0.0  the title \"Believers Hezbollah\" does not corre...   \n",
       "5          1.0  the title \"The Rise of Italian Fascism\" does c...   \n",
       "6          0.0  the title does not correctly describe the firs...   \n",
       "7          1.0  the title \"my friend midflip\" correctly descri...   \n",
       "8          0.0  the title does not correctly describe the firs...   \n",
       "9          0.0  the title does not correctly describe the firs...   \n",
       "\n",
       "                              scraped_reference_imgs  \n",
       "0  ['data:image/jpeg;base64,/9j/4AAQSkZJRgABAQAAA...  \n",
       "1  ['data:image/jpeg;base64,/9j/4AAQSkZJRgABAQAAA...  \n",
       "2  ['data:image/jpeg;base64,/9j/4AAQSkZJRgABAQAAA...  \n",
       "3  ['data:image/jpeg;base64,/9j/4AAQSkZJRgABAQAAA...  \n",
       "4  ['data:image/jpeg;base64,/9j/4AAQSkZJRgABAQAAA...  \n",
       "5  ['data:image/jpeg;base64,/9j/4AAQSkZJRgABAQAAA...  \n",
       "6  ['data:image/jpeg;base64,/9j/4AAQSkZJRgABAQAAA...  \n",
       "7  ['data:image/jpeg;base64,/9j/4AAQSkZJRgABAQAAA...  \n",
       "8  ['data:image/jpeg;base64,/9j/4AAQSkZJRgABAQAAA...  \n",
       "9  ['data:image/jpeg;base64,/9j/4AAQSkZJRgABAQAAA...  "
      ]
     },
     "execution_count": 88,
     "metadata": {},
     "output_type": "execute_result"
    }
   ],
   "source": [
    "test_df_process.head(10)"
   ]
  },
  {
   "cell_type": "code",
   "execution_count": 89,
   "id": "a39e66d4-1340-4044-a805-dd193aa0449f",
   "metadata": {},
   "outputs": [
    {
     "data": {
      "text/plain": [
       "'the title \"Believers Hezbollah\" does not correctly describe the\\nfirst image if you are seeking strict relevance to visible symbols and\\nlogos related directly to Hezbollah. The first image shows a soldier\\nin a military stance with no discernible symbols or text conclusively\\nlinking him specifically to Hezbollah or its identifiers, such as the\\nspecific logo which appears in your third reference image. The\\nremaining images include people or symbols directly associated with\\nHezbollah (like the logo in the third image or uniforms in other\\nimages showing explicit Hezbollah symbols), which are not seen in the\\nfirst image.'"
      ]
     },
     "execution_count": 89,
     "metadata": {},
     "output_type": "execute_result"
    }
   ],
   "source": [
    "test_df_process['match_reasoning'][4]"
   ]
  },
  {
   "cell_type": "code",
   "execution_count": 90,
   "id": "4b1d2898-c29e-4755-a832-096963f2fb74",
   "metadata": {},
   "outputs": [
    {
     "data": {
      "text/plain": [
       "'https://external-preview.redd.it/rbwXHncnjVh51mrD6D_M3S5PNIC5D8ZVaXB6NaKTno8.jpg?width=320&crop=smart&auto=webp&s=60c81e6a6050bbe469c8407bc38d27078305c2a4'"
      ]
     },
     "execution_count": 90,
     "metadata": {},
     "output_type": "execute_result"
    }
   ],
   "source": [
    "test_df_process['image_url'][4]"
   ]
  },
  {
   "cell_type": "markdown",
   "id": "a4702629-323c-412a-820f-e0db445b397f",
   "metadata": {},
   "source": [
    "## AllData"
   ]
  },
  {
   "cell_type": "code",
   "execution_count": 23,
   "id": "bab80a56-2509-4a59-ad2c-b30695467dfe",
   "metadata": {},
   "outputs": [],
   "source": [
    "all_data_df=pd.read_csv(\"../datasets/raw/all_data.csv\")\n",
    "all_data_df = all_data_df.loc[:, ~all_data_df.columns.str.contains('^Unnamed')]"
   ]
  },
  {
   "cell_type": "code",
   "execution_count": 24,
   "id": "7889d3de-2a1c-4111-bc1d-39604b3ae418",
   "metadata": {},
   "outputs": [
    {
     "name": "stdout",
     "output_type": "stream",
     "text": [
      "<class 'pandas.core.frame.DataFrame'>\n",
      "RangeIndex: 20015 entries, 0 to 20014\n",
      "Data columns (total 52 columns):\n",
      " #   Column              Non-Null Count  Dtype  \n",
      "---  ------              --------------  -----  \n",
      " 0   author              20015 non-null  object \n",
      " 1   comments            16844 non-null  float64\n",
      " 2   country             20015 non-null  object \n",
      " 3   crawled             16844 non-null  object \n",
      " 4   domain_rank         20015 non-null  int64  \n",
      " 5   id                  4903 non-null   float64\n",
      " 6   language            16844 non-null  object \n",
      " 7   likes               16844 non-null  float64\n",
      " 8   main_img_url        20015 non-null  object \n",
      " 9   ord_in_thread       16844 non-null  float64\n",
      " 10  participants_count  16844 non-null  float64\n",
      " 11  published           13514 non-null  object \n",
      " 12  replies_count       16844 non-null  float64\n",
      " 13  shares              16844 non-null  float64\n",
      " 14  site_url            16844 non-null  object \n",
      " 15  spam_score          16844 non-null  float64\n",
      " 16  text                20015 non-null  object \n",
      " 17  thread_title        20015 non-null  object \n",
      " 18  title               20015 non-null  object \n",
      " 19  type                20015 non-null  object \n",
      " 20  uuid                16844 non-null  object \n",
      " 21  caps_title          20015 non-null  int64  \n",
      " 22  caps_thread         20015 non-null  int64  \n",
      " 23  caps_text           20015 non-null  int64  \n",
      " 24  title_len           20015 non-null  int64  \n",
      " 25  thread_len          20015 non-null  int64  \n",
      " 26  text_len            20015 non-null  int64  \n",
      " 27  excl_title          20015 non-null  int64  \n",
      " 28  excl_thread         20015 non-null  int64  \n",
      " 29  excl_text           20015 non-null  int64  \n",
      " 30  first_title         20015 non-null  int64  \n",
      " 31  first_thread        20015 non-null  int64  \n",
      " 32  first_text          20015 non-null  int64  \n",
      " 33  second_title        20015 non-null  int64  \n",
      " 34  second_thread       20015 non-null  int64  \n",
      " 35  second_text         20015 non-null  int64  \n",
      " 36  third_title         20015 non-null  int64  \n",
      " 37  third_thread        20015 non-null  int64  \n",
      " 38  third_text          20015 non-null  int64  \n",
      " 39  anger               20015 non-null  int64  \n",
      " 40  anticipation        20015 non-null  int64  \n",
      " 41  disgust             20015 non-null  int64  \n",
      " 42  fear                20015 non-null  int64  \n",
      " 43  joy                 20015 non-null  int64  \n",
      " 44  sadness             20015 non-null  int64  \n",
      " 45  surprise            20015 non-null  int64  \n",
      " 46  trust               20015 non-null  int64  \n",
      " 47  negative            20015 non-null  int64  \n",
      " 48  positive            20015 non-null  int64  \n",
      " 49  first_all           20015 non-null  int64  \n",
      " 50  second_all          20015 non-null  int64  \n",
      " 51  third_all           20015 non-null  int64  \n",
      "dtypes: float64(8), int64(32), object(12)\n",
      "memory usage: 7.9+ MB\n"
     ]
    }
   ],
   "source": [
    "all_data_df.info()"
   ]
  },
  {
   "cell_type": "code",
   "execution_count": 25,
   "id": "673da1ec-3475-47a5-8bd2-cbc48366213f",
   "metadata": {},
   "outputs": [
    {
     "data": {
      "text/plain": [
       "'Luring Chinese Investors With Trump<U+2019>s Name, and Little Else'"
      ]
     },
     "execution_count": 25,
     "metadata": {},
     "output_type": "execute_result"
    }
   ],
   "source": [
    "all_data_df['title'][3]"
   ]
  },
  {
   "cell_type": "code",
   "execution_count": 26,
   "id": "45818f75-7333-466d-83eb-e59afff0a0c7",
   "metadata": {},
   "outputs": [],
   "source": [
    "import re\n",
    "import unicodedata\n",
    "from bs4 import BeautifulSoup\n",
    "import string\n",
    "\n",
    "# Map of common Unicode code points to their ASCII equivalents\n",
    "unicode_replacements = {\n",
    "    '2019': \"'\",  # right single quote\n",
    "    '2018': \"'\",  # left single quote\n",
    "    '201C': '\"',  # left double quote\n",
    "    '201D': '\"',  # right double quote\n",
    "    '2013': '-',  # en dash\n",
    "    '2014': '-',  # em dash\n",
    "}\n",
    "\n",
    "def replace_unicode_placeholders(text):\n",
    "    def replacer(match):\n",
    "        code = match.group(1).upper()\n",
    "        return unicode_replacements.get(code, '')  # Replace known codes or remove\n",
    "    return re.sub(r'<U\\+([0-9A-Fa-f]{4})>', replacer, text)\n",
    "\n",
    "def clean_text(text, lowercase=True, remove_punct=True, remove_html=True):\n",
    "    \"\"\"\n",
    "    Cleans text by removing HTML, punctuation (including apostrophes and dashes), and normalizing.\n",
    "    \"\"\"\n",
    "    if not isinstance(text, str):\n",
    "        return ''\n",
    "    \n",
    "    # Replace unicode placeholders\n",
    "    text = replace_unicode_placeholders(text)\n",
    "    \n",
    "    # Remove HTML\n",
    "    if remove_html:\n",
    "        text = BeautifulSoup(text, \"html.parser\").get_text()\n",
    "    \n",
    "    # Normalize Unicode\n",
    "    text = unicodedata.normalize(\"NFKD\", text)\n",
    "    \n",
    "    # Lowercase\n",
    "    if lowercase:\n",
    "        text = text.lower()\n",
    "    \n",
    "    # Remove punctuation including apostrophes and dashes\n",
    "    if remove_punct:\n",
    "        text = re.sub(r\"[^\\w\\s]\", '', text)\n",
    "    \n",
    "    # Collapse multiple spaces and strip\n",
    "    text = re.sub(r'\\s+', ' ', text).strip()\n",
    "    \n",
    "    return text"
   ]
  },
  {
   "cell_type": "code",
   "execution_count": 37,
   "id": "ae1d5eb5-bf78-433d-ba97-bbe9ee046308",
   "metadata": {},
   "outputs": [],
   "source": [
    "def load_and_display_image(url, folder='allData_images'):\n",
    "    filename = get_image_filename(url)\n",
    "    if filename:\n",
    "        image_path = os.path.join(folder, filename + '.jpg')\n",
    "        if os.path.exists(image_path):\n",
    "            encoded_image = encode_image(image_path)\n",
    "            display(IPyImage(image_path))\n",
    "        else:\n",
    "            print(f\"Image not found at {image_path}\")\n",
    "    else:\n",
    "        print(\"Invalid URL format.\")\n",
    "    return None"
   ]
  },
  {
   "cell_type": "code",
   "execution_count": 28,
   "id": "2faf2150-7341-4561-82e5-9cc4a58f6103",
   "metadata": {},
   "outputs": [],
   "source": [
    "all_data_df['title'] = all_data_df['title'].fillna('').apply(clean_text)\n",
    "all_data_df['text'] = all_data_df['text'].fillna('').apply(clean_text)"
   ]
  },
  {
   "cell_type": "code",
   "execution_count": 29,
   "id": "05a85dc8-9a02-42ba-ab0e-12e4569400c7",
   "metadata": {},
   "outputs": [
    {
     "data": {
      "text/plain": [
       "'2016-11-23 00:45:32'"
      ]
     },
     "execution_count": 29,
     "metadata": {},
     "output_type": "execute_result"
    }
   ],
   "source": [
    "all_data_df['published'][0]"
   ]
  },
  {
   "cell_type": "code",
   "execution_count": 30,
   "id": "adb6e9c7-8644-41ab-9816-8ed02d86bd90",
   "metadata": {},
   "outputs": [
    {
     "name": "stdout",
     "output_type": "stream",
     "text": [
      "Image not found at allData_images\\images_2016_10_18_us_18fd-trumpfoundation_18fd-trumpfoundation-master675.jpg\n"
     ]
    }
   ],
   "source": [
    "url = all_data_df['main_img_url'][1]\n",
    "load_and_display_image(url)"
   ]
  },
  {
   "cell_type": "code",
   "execution_count": 33,
   "id": "65668c1c-01fa-47f1-a80b-589eb9b77d30",
   "metadata": {},
   "outputs": [],
   "source": [
    "all_data_df_cleaned=subset_df(all_data_df,['id','title', 'text', 'main_img_url','published','type'])"
   ]
  },
  {
   "cell_type": "code",
   "execution_count": 34,
   "id": "13187f81-803e-44b5-936f-15c628a48427",
   "metadata": {},
   "outputs": [],
   "source": [
    "all_data_df_pred=all_data_df_cleaned.copy()\n",
    "all_data_df_pred['match_label'] = None\n",
    "all_data_df_pred['match_reasoning'] = None\n",
    "all_data_df_pred['scraped_reference_imgs'] = None"
   ]
  },
  {
   "cell_type": "code",
   "execution_count": 288,
   "id": "5c2f805f-2f7e-4fb2-bc0c-b7d91b5c7b5a",
   "metadata": {},
   "outputs": [],
   "source": [
    "id_col='main_img_url'\n",
    "title_col='title'\n",
    "date_col='published'"
   ]
  },
  {
   "cell_type": "code",
   "execution_count": 25,
   "id": "0b7d73ca-4dbd-493a-920d-2bb3a4aab284",
   "metadata": {},
   "outputs": [],
   "source": [
    "IMG_PATH = os.path.join(notebook_dir, '..', 'allData_images')"
   ]
  },
  {
   "cell_type": "code",
   "execution_count": null,
   "id": "a5079ae5-e6ef-41b6-9f8f-17254b579153",
   "metadata": {},
   "outputs": [],
   "source": [
    "for i in tqdm(range(0, 1), desc=\"Processing Rows\"):\n",
    "    try:\n",
    "        predict_news_using_similarity(all_data_df_pred,i,id_col,title_col,date_col)\n",
    "    except Exception as e:\n",
    "        print(f\"Error processing index {i}: {e}\")"
   ]
  },
  {
   "cell_type": "code",
   "execution_count": 296,
   "id": "b67b8a0a-d6f3-4763-9a3b-8d0dc1b2317a",
   "metadata": {},
   "outputs": [
    {
     "data": {
      "text/html": [
       "<div>\n",
       "<style scoped>\n",
       "    .dataframe tbody tr th:only-of-type {\n",
       "        vertical-align: middle;\n",
       "    }\n",
       "\n",
       "    .dataframe tbody tr th {\n",
       "        vertical-align: top;\n",
       "    }\n",
       "\n",
       "    .dataframe thead th {\n",
       "        text-align: right;\n",
       "    }\n",
       "</style>\n",
       "<table border=\"1\" class=\"dataframe\">\n",
       "  <thead>\n",
       "    <tr style=\"text-align: right;\">\n",
       "      <th></th>\n",
       "      <th>id</th>\n",
       "      <th>title</th>\n",
       "      <th>text</th>\n",
       "      <th>main_img_url</th>\n",
       "      <th>published</th>\n",
       "      <th>type</th>\n",
       "      <th>match_label</th>\n",
       "      <th>match_reasoning</th>\n",
       "      <th>scraped_reference_imgs</th>\n",
       "    </tr>\n",
       "  </thead>\n",
       "  <tbody>\n",
       "    <tr>\n",
       "      <th>0</th>\n",
       "      <td>3.0</td>\n",
       "      <td>at donald trumps properties a showcase for a b...</td>\n",
       "      <td>they stood in line at trump tower sometimes up...</td>\n",
       "      <td>https://static01.nyt.com/images/2016/11/23/us/...</td>\n",
       "      <td>2016-11-23 00:45:32</td>\n",
       "      <td>real</td>\n",
       "      <td>1</td>\n",
       "      <td>the title \"At Donald Trump's Properties, a Sho...</td>\n",
       "      <td>[data:image/jpeg;base64,/9j/4AAQSkZJRgABAQAAAQ...</td>\n",
       "    </tr>\n",
       "    <tr>\n",
       "      <th>1</th>\n",
       "      <td>4.0</td>\n",
       "      <td>trump foundation tells new york it has stopped...</td>\n",
       "      <td>donald j trump s foundation informed attorney ...</td>\n",
       "      <td>https://static01.nyt.com/images/2016/10/18/us/...</td>\n",
       "      <td>2016-10-17 18:46:52</td>\n",
       "      <td>real</td>\n",
       "      <td>None</td>\n",
       "      <td>None</td>\n",
       "      <td>None</td>\n",
       "    </tr>\n",
       "    <tr>\n",
       "      <th>2</th>\n",
       "      <td>5.0</td>\n",
       "      <td>donald trump prepares for white house move but...</td>\n",
       "      <td>presidentelect donald j trump won the white ho...</td>\n",
       "      <td>https://static01.nyt.com/images/2016/11/12/us/...</td>\n",
       "      <td>2016-11-12 02:08:39</td>\n",
       "      <td>real</td>\n",
       "      <td>None</td>\n",
       "      <td>None</td>\n",
       "      <td>None</td>\n",
       "    </tr>\n",
       "    <tr>\n",
       "      <th>3</th>\n",
       "      <td>6.0</td>\n",
       "      <td>luring chinese investors with trumps name and ...</td>\n",
       "      <td>an investment pitch for a new texas hotel is t...</td>\n",
       "      <td>https://static01.nyt.com/images/2016/10/21/bus...</td>\n",
       "      <td>2016-10-20 22:09:04</td>\n",
       "      <td>real</td>\n",
       "      <td>None</td>\n",
       "      <td>None</td>\n",
       "      <td>None</td>\n",
       "    </tr>\n",
       "    <tr>\n",
       "      <th>4</th>\n",
       "      <td>7.0</td>\n",
       "      <td>melania and barron trump wont immediately move...</td>\n",
       "      <td>presidentelect donald j trump s wife melania a...</td>\n",
       "      <td>https://static01.nyt.com/images/2016/11/21/us/...</td>\n",
       "      <td>2016-11-21 01:42:23</td>\n",
       "      <td>real</td>\n",
       "      <td>None</td>\n",
       "      <td>None</td>\n",
       "      <td>None</td>\n",
       "    </tr>\n",
       "  </tbody>\n",
       "</table>\n",
       "</div>"
      ],
      "text/plain": [
       "    id                                              title  \\\n",
       "0  3.0  at donald trumps properties a showcase for a b...   \n",
       "1  4.0  trump foundation tells new york it has stopped...   \n",
       "2  5.0  donald trump prepares for white house move but...   \n",
       "3  6.0  luring chinese investors with trumps name and ...   \n",
       "4  7.0  melania and barron trump wont immediately move...   \n",
       "\n",
       "                                                text  \\\n",
       "0  they stood in line at trump tower sometimes up...   \n",
       "1  donald j trump s foundation informed attorney ...   \n",
       "2  presidentelect donald j trump won the white ho...   \n",
       "3  an investment pitch for a new texas hotel is t...   \n",
       "4  presidentelect donald j trump s wife melania a...   \n",
       "\n",
       "                                        main_img_url            published  \\\n",
       "0  https://static01.nyt.com/images/2016/11/23/us/...  2016-11-23 00:45:32   \n",
       "1  https://static01.nyt.com/images/2016/10/18/us/...  2016-10-17 18:46:52   \n",
       "2  https://static01.nyt.com/images/2016/11/12/us/...  2016-11-12 02:08:39   \n",
       "3  https://static01.nyt.com/images/2016/10/21/bus...  2016-10-20 22:09:04   \n",
       "4  https://static01.nyt.com/images/2016/11/21/us/...  2016-11-21 01:42:23   \n",
       "\n",
       "   type match_label                                    match_reasoning  \\\n",
       "0  real           1  the title \"At Donald Trump's Properties, a Sho...   \n",
       "1  real        None                                               None   \n",
       "2  real        None                                               None   \n",
       "3  real        None                                               None   \n",
       "4  real        None                                               None   \n",
       "\n",
       "                              scraped_reference_imgs  \n",
       "0  [data:image/jpeg;base64,/9j/4AAQSkZJRgABAQAAAQ...  \n",
       "1                                               None  \n",
       "2                                               None  \n",
       "3                                               None  \n",
       "4                                               None  "
      ]
     },
     "execution_count": 296,
     "metadata": {},
     "output_type": "execute_result"
    }
   ],
   "source": [
    "all_data_df_pred.head()"
   ]
  },
  {
   "cell_type": "code",
   "execution_count": 297,
   "id": "a2919039-f392-42f5-993e-2a27caa1b204",
   "metadata": {},
   "outputs": [
    {
     "data": {
      "text/plain": [
       "'the title \"At Donald Trump\\'s Properties, a Showcase for a Brand\\nand a President-Elect\" correctly describes the first image. The image\\nshows a group of people on a balcony of a building that appears to be\\npart of a Trump property, as indicated by the emblem visible on the\\nbalcony which is associated with Trump\\'s brand. This setting aligns\\nwith the description of the property being a showcase for Trump\\'s\\nbrand, and it captures the atmosphere during a period when he was\\nPresident-Elect.'"
      ]
     },
     "execution_count": 297,
     "metadata": {},
     "output_type": "execute_result"
    }
   ],
   "source": [
    "all_data_df_pred[\"match_reasoning\"][0]"
   ]
  },
  {
   "cell_type": "code",
   "execution_count": 290,
   "id": "51a6df04-df5a-48c8-899d-31c6ef3639cd",
   "metadata": {},
   "outputs": [
    {
     "data": {
      "text/plain": [
       "'at donald trumps properties a showcase for a brand and a presidentelect'"
      ]
     },
     "execution_count": 290,
     "metadata": {},
     "output_type": "execute_result"
    }
   ],
   "source": [
    "all_data_df_pred[\"title\"][0] "
   ]
  },
  {
   "cell_type": "code",
   "execution_count": 24,
   "id": "a9df29c9-d976-4df6-94a1-feee750a18e0",
   "metadata": {},
   "outputs": [],
   "source": [
    "# all_data_df_pred.to_csv('datasets/processed/all_data_df_pred.csv')"
   ]
  },
  {
   "cell_type": "code",
   "execution_count": 97,
   "id": "710e59f9-fc5d-4bd9-88bc-3995838588a4",
   "metadata": {},
   "outputs": [
    {
     "name": "stdout",
     "output_type": "stream",
     "text": [
      "../allData_images\\images_2016_10_30_nyregion_30TRUMPHEIGHTS-COMBO_30TRUMPHEIGHTS-COMBO-master768.jpg\n"
     ]
    },
    {
     "data": {
      "image/jpeg": "[encoded data removed]",
      "text/plain": [
       "<IPython.core.display.Image object>"
      ]
     },
     "metadata": {},
     "output_type": "display_data"
    }
   ],
   "source": [
    "url = all_data_df['main_img_url'][8]\n",
    "load_and_display_image(url,folder='../allData_images')"
   ]
  },
  {
   "cell_type": "code",
   "execution_count": 21,
   "id": "abd1793d-57c7-4179-8293-96c8649ac72a",
   "metadata": {},
   "outputs": [],
   "source": [
    "def load_and_display_image(url, folder='allData_images'):\n",
    "    filename = get_image_filename(url)\n",
    "    if filename:\n",
    "        image_path = os.path.join(folder, filename + '.jpg')\n",
    "        if os.path.exists(image_path):\n",
    "            encoded_image = encode_image(image_path)\n",
    "            print(image_path)\n",
    "            display(Image(image_path))\n",
    "        else:\n",
    "            print(f\"Image not found at {image_path}\")\n",
    "    else:\n",
    "        print(\"Invalid URL format.\")\n",
    "    return None"
   ]
  },
  {
   "cell_type": "code",
   "execution_count": 64,
   "id": "88ffe5b3-8d2b-4dde-9746-31e76365a3ec",
   "metadata": {},
   "outputs": [],
   "source": [
    "from sentence_transformers import SentenceTransformer, util\n",
    "import io"
   ]
  },
  {
   "cell_type": "code",
   "execution_count": 74,
   "id": "a4cb6f14-f6f2-48f3-8d6a-823fcc65c3ec",
   "metadata": {},
   "outputs": [],
   "source": [
    "import base64\n",
    "import io\n",
    "from PIL import Image as PILImage\n",
    "import os\n",
    "\n",
    "def get_pil_image(input_data):\n",
    "    \"\"\"\n",
    "    If input_data is a base64 string (with or without data URI), decode and return Pillow Image.\n",
    "    If input_data is a valid image file path, open and return Pillow Image.\n",
    "    \"\"\"\n",
    "    # Check if input_data looks like base64 (starts with 'data:image' or very long string without a file path)\n",
    "    if isinstance(input_data, str):\n",
    "        if input_data.startswith(\"data:image\") or len(input_data) > 100:\n",
    "            # Likely base64 string\n",
    "            if input_data.startswith(\"data:image\"):\n",
    "                input_data = input_data.split(\",\", 1)[1]\n",
    "            try:\n",
    "                image_data = base64.b64decode(input_data)\n",
    "                return PILImage.open(io.BytesIO(image_data))\n",
    "            except Exception as e:\n",
    "                print(\"Error decoding base64 image:\", e)\n",
    "                raise\n",
    "        elif os.path.isfile(input_data):\n",
    "            # Treat as image file path\n",
    "            try:\n",
    "                return PILImage.open(input_data)\n",
    "            except Exception as e:\n",
    "                print(\"Error opening image file:\", e)\n",
    "                raise\n",
    "        else:\n",
    "            raise ValueError(\"Input string is neither a valid file path nor a base64 image string.\")\n",
    "    else:\n",
    "        raise TypeError(\"Input must be a base64 string or a file path string.\")\n"
   ]
  },
  {
   "cell_type": "code",
   "execution_count": 81,
   "id": "5e98b095-2bcc-46e1-b41e-102abb1feeba",
   "metadata": {},
   "outputs": [
    {
     "data": {
      "text/plain": [
       "'trump foundation tells new york it has stopped soliciting after state order'"
      ]
     },
     "execution_count": 81,
     "metadata": {},
     "output_type": "execute_result"
    }
   ],
   "source": [
    "all_data_df['title'][1]\n",
    "# load_and_display_image(url,folder='../allData_images')"
   ]
  },
  {
   "cell_type": "code",
   "execution_count": 98,
   "id": "769acaa0-b299-4b5c-8cfb-6a6739d0c451",
   "metadata": {},
   "outputs": [
    {
     "name": "stdout",
     "output_type": "stream",
     "text": [
      "../allData_images\\images_2016_10_18_us_18fd-trumpfoundation_18fd-trumpfoundation-master675.jpg\n"
     ]
    },
    {
     "data": {
      "image/jpeg": "[encoded data removed]",
      "text/plain": [
       "<IPython.core.display.Image object>"
      ]
     },
     "metadata": {},
     "output_type": "display_data"
    }
   ],
   "source": [
    "url = all_data_df['main_img_url'][1]\n",
    "load_and_display_image(url,folder='../allData_images')"
   ]
  },
  {
   "cell_type": "code",
   "execution_count": 61,
   "id": "342dd97d-8098-4f5e-b43c-7bae22339a11",
   "metadata": {},
   "outputs": [
    {
     "data": {
      "text/plain": [
       "'https://static01.nyt.com/images/2016/11/12/us/12tower1/12tower1-master768.jpg'"
      ]
     },
     "execution_count": 61,
     "metadata": {},
     "output_type": "execute_result"
    }
   ],
   "source": [
    "url"
   ]
  },
  {
   "cell_type": "code",
   "execution_count": 104,
   "id": "cff32a0a-40f8-45f2-9200-ff84b3c3b9ba",
   "metadata": {},
   "outputs": [
    {
     "name": "stderr",
     "output_type": "stream",
     "text": [
      "<>:4: SyntaxWarning: invalid escape sequence '\\i'\n",
      "<>:4: SyntaxWarning: invalid escape sequence '\\i'\n",
      "C:\\Users\\pc\\AppData\\Local\\Temp\\ipykernel_27292\\2434723601.py:4: SyntaxWarning: invalid escape sequence '\\i'\n",
      "  img_emb = model.encode(get_pil_image(\"../allData_images\\images_2016_10_18_us_18fd-trumpfoundation_18fd-trumpfoundation-master675.jpg\"))\n"
     ]
    },
    {
     "name": "stdout",
     "output_type": "stream",
     "text": [
      "https://encrypted-tbn0.gstatic.com/images?q=tbn:ANd9GcQAhvsuDHE6Da5t0zUKw7G2hoqp-BWzHm1PHA&s\n",
      "tensor([[0.8832, 0.7985, 0.7348, 0.2600]])\n"
     ]
    }
   ],
   "source": [
    "model = SentenceTransformer('clip-ViT-B-32')\n",
    "\n",
    "#Encode an image:\n",
    "img_emb = model.encode(get_pil_image(\"../allData_images\\images_2016_10_18_us_18fd-trumpfoundation_18fd-trumpfoundation-master675.jpg\"))\n",
    "ref1=get_pil_image(all_ref[0][0])\n",
    "ref2=get_pil_image(all_ref[1][0])\n",
    "ref3=get_pil_image(encode_image(\"https://encrypted-tbn0.gstatic.com/images?q=tbn:ANd9GcQAhvsuDHE6Da5t0zUKw7G2hoqp-BWzHm1PHA&s\"))\n",
    "#Encode text descriptions\n",
    "ref_emb = model.encode([ref1,ref2,ref3,'trump foundation tells new york it has stopped soliciting after state order'])\n",
    "\n",
    "#Compute cosine similarities \n",
    "cos_scores = util.cos_sim(img_emb, ref_emb)\n",
    "print(cos_scores)"
   ]
  },
  {
   "cell_type": "code",
   "execution_count": 84,
   "id": "4199762a-5033-4a16-83cf-8ec77f9b2e4e",
   "metadata": {},
   "outputs": [],
   "source": [
    "all_ref=google_image_search(\"trump foundation tells new york it has stopped soliciting after state order\",3)"
   ]
  },
  {
   "cell_type": "code",
   "execution_count": 45,
   "id": "5a76bc00-c6b7-4d5e-abac-4a4568f94db3",
   "metadata": {},
   "outputs": [
    {
     "data": {
      "text/plain": [
       "3"
      ]
     },
     "execution_count": 45,
     "metadata": {},
     "output_type": "execute_result"
    }
   ],
   "source": [
    "len(all_ref)"
   ]
  },
  {
   "cell_type": "code",
   "execution_count": 50,
   "id": "61086a25-a231-402f-8f83-00bb90271f58",
   "metadata": {},
   "outputs": [
    {
     "name": "stdout",
     "output_type": "stream",
     "text": [
      "Applied providers: ['CPUExecutionProvider'], with options: {'CPUExecutionProvider': {}}\n",
      "find model: C:\\Users\\pc/.insightface\\models\\buffalo_l\\1k3d68.onnx landmark_3d_68 ['None', 3, 192, 192] 0.0 1.0\n",
      "Applied providers: ['CPUExecutionProvider'], with options: {'CPUExecutionProvider': {}}\n",
      "find model: C:\\Users\\pc/.insightface\\models\\buffalo_l\\2d106det.onnx landmark_2d_106 ['None', 3, 192, 192] 0.0 1.0\n",
      "Applied providers: ['CPUExecutionProvider'], with options: {'CPUExecutionProvider': {}}\n",
      "find model: C:\\Users\\pc/.insightface\\models\\buffalo_l\\det_10g.onnx detection [1, 3, '?', '?'] 127.5 128.0\n",
      "Applied providers: ['CPUExecutionProvider'], with options: {'CPUExecutionProvider': {}}\n",
      "find model: C:\\Users\\pc/.insightface\\models\\buffalo_l\\genderage.onnx genderage ['None', 3, 96, 96] 0.0 1.0\n",
      "Applied providers: ['CPUExecutionProvider'], with options: {'CPUExecutionProvider': {}}\n",
      "find model: C:\\Users\\pc/.insightface\\models\\buffalo_l\\w600k_r50.onnx recognition ['None', 3, 112, 112] 127.5 127.5\n",
      "set det-size: (640, 640)\n"
     ]
    },
    {
     "data": {
      "text/plain": [
       "True"
      ]
     },
     "execution_count": 50,
     "metadata": {},
     "output_type": "execute_result"
    }
   ],
   "source": [
    "from insightface.app import FaceAnalysis\n",
    "import cv2\n",
    "import base64\n",
    "import numpy as np\n",
    "from PIL import Image\n",
    "import io\n",
    "\n",
    "# Load model\n",
    "app = FaceAnalysis()\n",
    "app.prepare(ctx_id=0)  # Use ctx_id=-1 if no GPU available\n",
    "\n",
    "# Convert base64 string to OpenCV image\n",
    "def base64_to_cv2(base64_str):\n",
    "    if base64_str.startswith(\"data:image\"):\n",
    "        base64_str = base64_str.split(\",\", 1)[1]\n",
    "    image_data = base64.b64decode(base64_str)\n",
    "    pil_img = Image.open(io.BytesIO(image_data))\n",
    "    return cv2.cvtColor(np.array(pil_img), cv2.COLOR_RGB2BGR)\n",
    "\n",
    "# Detect faces and draw bounding boxes\n",
    "def draw_face_boxes(base64_img):\n",
    "    img = base64_to_cv2(base64_img)\n",
    "    faces = app.get(img)\n",
    "\n",
    "    if not faces:\n",
    "        print(\"No face found\")\n",
    "        return img\n",
    "\n",
    "    for face in faces:\n",
    "        bbox = face.bbox.astype(int)\n",
    "        cv2.rectangle(img, (bbox[0], bbox[1]), (bbox[2], bbox[3]), (0, 255, 0), 2)\n",
    "        \n",
    "        # Check if landmarks exist\n",
    "        if face.landmark is not None:\n",
    "            for (x, y) in face.landmark.astype(int):\n",
    "                cv2.circle(img, (x, y), 2, (0, 0, 255), -1)\n",
    "\n",
    "\n",
    "    return img\n",
    "\n",
    "# Example usage:\n",
    "img_with_boxes = draw_face_boxes(all_ref[2][0])\n",
    "\n",
    "# Show image in OpenCV window (optional)\n",
    "# cv2.imshow(\"Faces\", img_with_boxes)\n",
    "# cv2.waitKey(0)\n",
    "# cv2.destroyAllWindows()\n",
    "\n",
    "# Or save image to file\n",
    "cv2.imwrite(\"faces_detected.jpg\", img_with_boxes)\n"
   ]
  },
  {
   "cell_type": "code",
   "execution_count": 75,
   "id": "4fc7a42a-2d24-47b3-8e47-aa46acb3445e",
   "metadata": {},
   "outputs": [],
   "source": [
    "def base64_to_ipy_image(base64_str):\n",
    "    if base64_str.startswith(\"data:image\"):\n",
    "        base64_str = base64_str.split(\",\", 1)[1]\n",
    "    return IPyImage(data=base64.b64decode(base64_str))"
   ]
  },
  {
   "cell_type": "code",
   "execution_count": 49,
   "id": "9d16c6d6-2593-46b2-97b8-45d351a49c71",
   "metadata": {},
   "outputs": [
    {
     "ename": "NameError",
     "evalue": "name 'base64_to_ipy_image' is not defined",
     "output_type": "error",
     "traceback": [
      "\u001b[31m---------------------------------------------------------------------------\u001b[39m",
      "\u001b[31mNameError\u001b[39m                                 Traceback (most recent call last)",
      "\u001b[36mCell\u001b[39m\u001b[36m \u001b[39m\u001b[32mIn[49]\u001b[39m\u001b[32m, line 1\u001b[39m\n\u001b[32m----> \u001b[39m\u001b[32m1\u001b[39m \u001b[43mbase64_to_ipy_image\u001b[49m(all_ref[\u001b[32m2\u001b[39m][\u001b[32m0\u001b[39m])\n",
      "\u001b[31mNameError\u001b[39m: name 'base64_to_ipy_image' is not defined"
     ]
    }
   ],
   "source": [
    "base64_to_ipy_image(all_ref[2][0])"
   ]
  },
  {
   "cell_type": "code",
   "execution_count": null,
   "id": "1933e07a-9785-40eb-90a6-f54469318ebf",
   "metadata": {},
   "outputs": [],
   "source": [
    "all_ref[1][0]"
   ]
  },
  {
   "cell_type": "code",
   "execution_count": null,
   "id": "896c90b7-e21e-4aa1-b4cb-ea55437767a7",
   "metadata": {},
   "outputs": [],
   "source": [
    "encode_image(\"../allData_images\\images_2016_10_18_us_18fd-trumpfoundation_18fd-trumpfoundation-master675.jpg\")"
   ]
  },
  {
   "cell_type": "code",
   "execution_count": 56,
   "id": "0982f1f2-9c76-4cab-a212-600797f2f132",
   "metadata": {},
   "outputs": [
    {
     "name": "stdout",
     "output_type": "stream",
     "text": [
      "Applied providers: ['CPUExecutionProvider'], with options: {'CPUExecutionProvider': {}}\n",
      "find model: C:\\Users\\pc/.insightface\\models\\buffalo_l\\1k3d68.onnx landmark_3d_68 ['None', 3, 192, 192] 0.0 1.0\n",
      "Applied providers: ['CPUExecutionProvider'], with options: {'CPUExecutionProvider': {}}\n",
      "find model: C:\\Users\\pc/.insightface\\models\\buffalo_l\\2d106det.onnx landmark_2d_106 ['None', 3, 192, 192] 0.0 1.0\n",
      "Applied providers: ['CPUExecutionProvider'], with options: {'CPUExecutionProvider': {}}\n",
      "find model: C:\\Users\\pc/.insightface\\models\\buffalo_l\\det_10g.onnx detection [1, 3, '?', '?'] 127.5 128.0\n",
      "Applied providers: ['CPUExecutionProvider'], with options: {'CPUExecutionProvider': {}}\n",
      "find model: C:\\Users\\pc/.insightface\\models\\buffalo_l\\genderage.onnx genderage ['None', 3, 96, 96] 0.0 1.0\n",
      "Applied providers: ['CPUExecutionProvider'], with options: {'CPUExecutionProvider': {}}\n",
      "find model: C:\\Users\\pc/.insightface\\models\\buffalo_l\\w600k_r50.onnx recognition ['None', 3, 112, 112] 127.5 127.5\n",
      "download_path: C:\\Users\\pc/.insightface\\models\\MS1MV2\n",
      "Downloading C:\\Users\\pc/.insightface\\models\\MS1MV2.zip from https://github.com/deepinsight/insightface/releases/download/v0.7/MS1MV2.zip...\n"
     ]
    },
    {
     "ename": "RuntimeError",
     "evalue": "Failed downloading url https://github.com/deepinsight/insightface/releases/download/v0.7/MS1MV2.zip",
     "output_type": "error",
     "traceback": [
      "\u001b[31m---------------------------------------------------------------------------\u001b[39m",
      "\u001b[31mRuntimeError\u001b[39m                              Traceback (most recent call last)",
      "\u001b[36mCell\u001b[39m\u001b[36m \u001b[39m\u001b[32mIn[56]\u001b[39m\u001b[32m, line 14\u001b[39m\n\u001b[32m      7\u001b[39m \u001b[38;5;28;01mfrom\u001b[39;00m\u001b[38;5;250m \u001b[39m\u001b[34;01msklearn\u001b[39;00m\u001b[34;01m.\u001b[39;00m\u001b[34;01mmetrics\u001b[39;00m\u001b[34;01m.\u001b[39;00m\u001b[34;01mpairwise\u001b[39;00m\u001b[38;5;250m \u001b[39m\u001b[38;5;28;01mimport\u001b[39;00m cosine_similarity\n\u001b[32m     12\u001b[39m detector = FaceAnalysis()\n\u001b[32m---> \u001b[39m\u001b[32m14\u001b[39m recognizer = \u001b[43mFaceAnalysis\u001b[49m\u001b[43m(\u001b[49m\u001b[43mname\u001b[49m\u001b[43m=\u001b[49m\u001b[33;43m'\u001b[39;49m\u001b[33;43mMS1MV2\u001b[39;49m\u001b[33;43m'\u001b[39;49m\u001b[43m)\u001b[49m\n\u001b[32m     15\u001b[39m recognizer.prepare(ctx_id=\u001b[32m0\u001b[39m)\n\u001b[32m     17\u001b[39m \u001b[38;5;28;01mdef\u001b[39;00m\u001b[38;5;250m \u001b[39m\u001b[34mbase64_to_cv2\u001b[39m(base64_str):\n",
      "\u001b[36mFile \u001b[39m\u001b[32m~\\AppData\\Local\\Programs\\Python\\Python312\\Lib\\site-packages\\insightface\\app\\face_analysis.py:27\u001b[39m, in \u001b[36mFaceAnalysis.__init__\u001b[39m\u001b[34m(self, name, root, allowed_modules, **kwargs)\u001b[39m\n\u001b[32m     25\u001b[39m onnxruntime.set_default_logger_severity(\u001b[32m3\u001b[39m)\n\u001b[32m     26\u001b[39m \u001b[38;5;28mself\u001b[39m.models = {}\n\u001b[32m---> \u001b[39m\u001b[32m27\u001b[39m \u001b[38;5;28mself\u001b[39m.model_dir = \u001b[43mensure_available\u001b[49m\u001b[43m(\u001b[49m\u001b[33;43m'\u001b[39;49m\u001b[33;43mmodels\u001b[39;49m\u001b[33;43m'\u001b[39;49m\u001b[43m,\u001b[49m\u001b[43m \u001b[49m\u001b[43mname\u001b[49m\u001b[43m,\u001b[49m\u001b[43m \u001b[49m\u001b[43mroot\u001b[49m\u001b[43m=\u001b[49m\u001b[43mroot\u001b[49m\u001b[43m)\u001b[49m\n\u001b[32m     28\u001b[39m onnx_files = glob.glob(osp.join(\u001b[38;5;28mself\u001b[39m.model_dir, \u001b[33m'\u001b[39m\u001b[33m*.onnx\u001b[39m\u001b[33m'\u001b[39m))\n\u001b[32m     29\u001b[39m onnx_files = \u001b[38;5;28msorted\u001b[39m(onnx_files)\n",
      "\u001b[36mFile \u001b[39m\u001b[32m~\\AppData\\Local\\Programs\\Python\\Python312\\Lib\\site-packages\\insightface\\utils\\storage.py:28\u001b[39m, in \u001b[36mensure_available\u001b[39m\u001b[34m(sub_dir, name, root)\u001b[39m\n\u001b[32m     27\u001b[39m \u001b[38;5;28;01mdef\u001b[39;00m\u001b[38;5;250m \u001b[39m\u001b[34mensure_available\u001b[39m(sub_dir, name, root=\u001b[33m'\u001b[39m\u001b[33m~/.insightface\u001b[39m\u001b[33m'\u001b[39m):\n\u001b[32m---> \u001b[39m\u001b[32m28\u001b[39m     \u001b[38;5;28;01mreturn\u001b[39;00m \u001b[43mdownload\u001b[49m\u001b[43m(\u001b[49m\u001b[43msub_dir\u001b[49m\u001b[43m,\u001b[49m\u001b[43m \u001b[49m\u001b[43mname\u001b[49m\u001b[43m,\u001b[49m\u001b[43m \u001b[49m\u001b[43mforce\u001b[49m\u001b[43m=\u001b[49m\u001b[38;5;28;43;01mFalse\u001b[39;49;00m\u001b[43m,\u001b[49m\u001b[43m \u001b[49m\u001b[43mroot\u001b[49m\u001b[43m=\u001b[49m\u001b[43mroot\u001b[49m\u001b[43m)\u001b[49m\n",
      "\u001b[36mFile \u001b[39m\u001b[32m~\\AppData\\Local\\Programs\\Python\\Python312\\Lib\\site-packages\\insightface\\utils\\storage.py:17\u001b[39m, in \u001b[36mdownload\u001b[39m\u001b[34m(sub_dir, name, force, root)\u001b[39m\n\u001b[32m     15\u001b[39m zip_file_path = os.path.join(_root, sub_dir, name + \u001b[33m'\u001b[39m\u001b[33m.zip\u001b[39m\u001b[33m'\u001b[39m)\n\u001b[32m     16\u001b[39m model_url = \u001b[33m\"\u001b[39m\u001b[38;5;132;01m%s\u001b[39;00m\u001b[33m/\u001b[39m\u001b[38;5;132;01m%s\u001b[39;00m\u001b[33m.zip\u001b[39m\u001b[33m\"\u001b[39m%(BASE_REPO_URL, name)\n\u001b[32m---> \u001b[39m\u001b[32m17\u001b[39m \u001b[43mdownload_file\u001b[49m\u001b[43m(\u001b[49m\u001b[43mmodel_url\u001b[49m\u001b[43m,\u001b[49m\n\u001b[32m     18\u001b[39m \u001b[43m         \u001b[49m\u001b[43mpath\u001b[49m\u001b[43m=\u001b[49m\u001b[43mzip_file_path\u001b[49m\u001b[43m,\u001b[49m\n\u001b[32m     19\u001b[39m \u001b[43m         \u001b[49m\u001b[43moverwrite\u001b[49m\u001b[43m=\u001b[49m\u001b[38;5;28;43;01mTrue\u001b[39;49;00m\u001b[43m)\u001b[49m\n\u001b[32m     20\u001b[39m \u001b[38;5;28;01mif\u001b[39;00m \u001b[38;5;129;01mnot\u001b[39;00m os.path.exists(dir_path):\n\u001b[32m     21\u001b[39m     os.makedirs(dir_path)\n",
      "\u001b[36mFile \u001b[39m\u001b[32m~\\AppData\\Local\\Programs\\Python\\Python312\\Lib\\site-packages\\insightface\\utils\\download.py:73\u001b[39m, in \u001b[36mdownload_file\u001b[39m\u001b[34m(url, path, overwrite, sha1_hash)\u001b[39m\n\u001b[32m     71\u001b[39m r = requests.get(url, stream=\u001b[38;5;28;01mTrue\u001b[39;00m)\n\u001b[32m     72\u001b[39m \u001b[38;5;28;01mif\u001b[39;00m r.status_code != \u001b[32m200\u001b[39m:\n\u001b[32m---> \u001b[39m\u001b[32m73\u001b[39m     \u001b[38;5;28;01mraise\u001b[39;00m \u001b[38;5;167;01mRuntimeError\u001b[39;00m(\u001b[33m\"\u001b[39m\u001b[33mFailed downloading url \u001b[39m\u001b[38;5;132;01m%s\u001b[39;00m\u001b[33m\"\u001b[39m % url)\n\u001b[32m     74\u001b[39m total_length = r.headers.get(\u001b[33m'\u001b[39m\u001b[33mcontent-length\u001b[39m\u001b[33m'\u001b[39m)\n\u001b[32m     75\u001b[39m \u001b[38;5;28;01mwith\u001b[39;00m \u001b[38;5;28mopen\u001b[39m(fname, \u001b[33m'\u001b[39m\u001b[33mwb\u001b[39m\u001b[33m'\u001b[39m) \u001b[38;5;28;01mas\u001b[39;00m f:\n",
      "\u001b[31mRuntimeError\u001b[39m: Failed downloading url https://github.com/deepinsight/insightface/releases/download/v0.7/MS1MV2.zip"
     ]
    }
   ],
   "source": [
    "import cv2\n",
    "import numpy as np\n",
    "import base64\n",
    "from insightface import model_zoo\n",
    "from PIL import Image\n",
    "import io\n",
    "from sklearn.metrics.pairwise import cosine_similarity\n",
    "\n",
    "\n",
    "\n",
    "\n",
    "detector = FaceAnalysis()\n",
    "\n",
    "recognizer = FaceAnalysis(name='MS1MV2')\n",
    "recognizer.prepare(ctx_id=0)\n",
    "\n",
    "def base64_to_cv2(base64_str):\n",
    "    if base64_str.startswith(\"data:image\"):\n",
    "        base64_str = base64_str.split(\",\", 1)[1]\n",
    "    img_data = base64.b64decode(base64_str)\n",
    "    pil_img = Image.open(io.BytesIO(img_data))\n",
    "    img_cv = cv2.cvtColor(np.array(pil_img), cv2.COLOR_RGB2BGR)\n",
    "    return img_cv\n",
    "\n",
    "def align_face(img):\n",
    "    faces = detector.get(img)\n",
    "    if faces is None or len(faces) == 0:\n",
    "        print(\"No faces detected\")\n",
    "        return None\n",
    "    \n",
    "    bbox, landmarks = faces[0][0:4], faces[0][5:15].reshape((5, 2))\n",
    "    aligned_face = recognizer.get_aligned_face(img, landmarks)\n",
    "    return aligned_face\n",
    "\n",
    "def get_embedding_from_base64(base64_img):\n",
    "    img = base64_to_cv2(base64_img)\n",
    "    aligned = align_face(img)\n",
    "    if aligned is None:\n",
    "        return None\n",
    "    embedding = recognizer.get_embedding(aligned)\n",
    "    return embedding\n",
    "\n",
    "# Compute similarity between two base64 images\n",
    "def compute_similarity(base64_img1, base64_img2):\n",
    "    emb1 = get_embedding_from_base64(base64_img1)\n",
    "    emb2 = get_embedding_from_base64(base64_img2)\n",
    "    if emb1 is None or emb2 is None:\n",
    "        print(\"Failed to get embeddings for one or both images\")\n",
    "        return None\n",
    "    sim = cosine_similarity([emb1], [emb2])[0][0]\n",
    "    return sim\n",
    "\n",
    "# Example usage:\n",
    "similarity = compute_similarity(all_ref[1][0], all_ref[2][0])\n",
    "print(\"Cosine similarity:\", similarity)\n"
   ]
  },
  {
   "cell_type": "code",
   "execution_count": null,
   "id": "3611df8b-0963-4b4b-b194-33814b95dc82",
   "metadata": {},
   "outputs": [],
   "source": []
  }
 ],
 "metadata": {
  "kernelspec": {
   "display_name": "Python 3 (ipykernel)",
   "language": "python",
   "name": "python3"
  },
  "language_info": {
   "codemirror_mode": {
    "name": "ipython",
    "version": 3
   },
   "file_extension": ".py",
   "mimetype": "text/x-python",
   "name": "python",
   "nbconvert_exporter": "python",
   "pygments_lexer": "ipython3",
   "version": "3.12.9"
  }
 },
 "nbformat": 4,
 "nbformat_minor": 5
}
